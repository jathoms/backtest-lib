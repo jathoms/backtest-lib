{
 "cells": [
  {
   "cell_type": "code",
   "execution_count": 9,
   "metadata": {},
   "outputs": [],
   "source": [
    "import pickle as pkl\n",
    "import pandas as pd\n",
    "import yfinance as yf\n",
    "import time\n",
    "\n",
    "sp500_url = \"https://en.wikipedia.org/wiki/List_of_S%26P_500_companies\"\n",
    "table = pd.read_html(sp500_url)\n",
    "sp500_df = table[0]  # First table is the constituents list\n",
    "tickers = sp500_df[\"Symbol\"].tolist()\n",
    "\n",
    "# Yahoo uses BRK-B instead of BRK.B, same for BF-B -> BF.B\n",
    "tickers = [t.replace(\".\", \"-\") for t in tickers]\n",
    "\n",
    "\n",
    "def fetch_history(tickers, start=\"2020-01-01\", end=None, interval=\"1d\"):\n",
    "    all_data = []\n",
    "    chunk_size = 50  # <= 100 is safer\n",
    "\n",
    "    for i in range(0, len(tickers), chunk_size):\n",
    "        batch = tickers[i : i + chunk_size]\n",
    "        print(f\"Fetching {batch[0]}...{batch[-1]}\")\n",
    "\n",
    "        df = yf.download(\n",
    "            tickers=batch,\n",
    "            start=start,\n",
    "            end=end,\n",
    "            interval=interval,\n",
    "            group_by=\"ticker\",\n",
    "            auto_adjust=False,\n",
    "            threads=True,\n",
    "        )\n",
    "        all_data.append(df)\n",
    "\n",
    "        time.sleep(1.5)  # avoid being throttled\n",
    "\n",
    "    return all_data\n",
    "\n",
    "\n",
    "# history_batches = fetch_history(tickers, start=\"2020-01-01\")\n",
    "history_batches = pkl.load(open(\"./sp500.pkl\", \"rb\"))\n"
   ]
  },
  {
   "cell_type": "code",
   "execution_count": 10,
   "metadata": {},
   "outputs": [],
   "source": [
    "# Merge batches\n",
    "history = pd.concat(history_batches, axis=1)\n",
    "\n",
    "# Example: get Close prices in wide format\n",
    "close_df = history.xs(\"Close\", axis=1, level=1)\n",
    "\n",
    "# Similarly for Open/High/Low/Volume\n",
    "open_df = history.xs(\"Open\", axis=1, level=1)\n",
    "high_df = history.xs(\"High\", axis=1, level=1)\n",
    "low_df = history.xs(\"Low\", axis=1, level=1)\n",
    "vol_df = history.xs(\"Volume\", axis=1, level=1)"
   ]
  },
  {
   "cell_type": "code",
   "execution_count": 11,
   "metadata": {},
   "outputs": [],
   "source": [
    "dates = history.index.values"
   ]
  },
  {
   "cell_type": "code",
   "execution_count": 12,
   "metadata": {},
   "outputs": [],
   "source": [
    "# Convert to polars for your pipeline\n",
    "import polars as pl\n",
    "from backtest_lib.market.polars_impl import Axis\n",
    "\n",
    "close_pl = pl.from_pandas(close_df)\n",
    "securities = close_pl.columns\n",
    "axis = Axis.from_names(securities)"
   ]
  },
  {
   "cell_type": "code",
   "execution_count": null,
   "metadata": {},
   "outputs": [],
   "source": []
  },
  {
   "cell_type": "code",
   "execution_count": 13,
   "metadata": {},
   "outputs": [
    {
     "data": {
      "text/html": [
       "<div><style>\n",
       ".dataframe > thead > tr,\n",
       ".dataframe > tbody > tr {\n",
       "  text-align: right;\n",
       "  white-space: pre-wrap;\n",
       "}\n",
       "</style>\n",
       "<small>shape: (503, 4)</small><table border=\"1\" class=\"dataframe\"><thead><tr><th>period_0</th><th>period_1</th><th>period_2</th><th>period_3</th></tr><tr><td>f64</td><td>f64</td><td>f64</td><td>f64</td></tr></thead><tbody><tr><td>87.639999</td><td>87.239998</td><td>87.550003</td><td>90.199997</td></tr><tr><td>49.099998</td><td>48.599998</td><td>48.389999</td><td>48.25</td></tr><tr><td>12.795</td><td>12.553125</td><td>12.67875</td><td>12.803125</td></tr><tr><td>187.830002</td><td>184.949997</td><td>187.119995</td><td>187.5</td></tr><tr><td>68.433998</td><td>68.075996</td><td>69.890503</td><td>69.755501</td></tr><tr><td>&hellip;</td><td>&hellip;</td><td>&hellip;</td><td>&hellip;</td></tr><tr><td>46.119999</td><td>46.490002</td><td>46.389999</td><td>45.82</td></tr><tr><td>137.509995</td><td>137.020004</td><td>137.169998</td><td>135.160004</td></tr><tr><td>259.140015</td><td>256.049988</td><td>258.01001</td><td>256.470001</td></tr><tr><td>144.85437</td><td>144.475723</td><td>143.640778</td><td>143.514557</td></tr><tr><td>134.139999</td><td>134.160004</td><td>133.130005</td><td>133.580002</td></tr></tbody></table></div>"
      ],
      "text/plain": [
       "shape: (503, 4)\n",
       "┌────────────┬────────────┬────────────┬────────────┐\n",
       "│ period_0   ┆ period_1   ┆ period_2   ┆ period_3   │\n",
       "│ ---        ┆ ---        ┆ ---        ┆ ---        │\n",
       "│ f64        ┆ f64        ┆ f64        ┆ f64        │\n",
       "╞════════════╪════════════╪════════════╪════════════╡\n",
       "│ 87.639999  ┆ 87.239998  ┆ 87.550003  ┆ 90.199997  │\n",
       "│ 49.099998  ┆ 48.599998  ┆ 48.389999  ┆ 48.25      │\n",
       "│ 12.795     ┆ 12.553125  ┆ 12.67875   ┆ 12.803125  │\n",
       "│ 187.830002 ┆ 184.949997 ┆ 187.119995 ┆ 187.5      │\n",
       "│ 68.433998  ┆ 68.075996  ┆ 69.890503  ┆ 69.755501  │\n",
       "│ …          ┆ …          ┆ …          ┆ …          │\n",
       "│ 46.119999  ┆ 46.490002  ┆ 46.389999  ┆ 45.82      │\n",
       "│ 137.509995 ┆ 137.020004 ┆ 137.169998 ┆ 135.160004 │\n",
       "│ 259.140015 ┆ 256.049988 ┆ 258.01001  ┆ 256.470001 │\n",
       "│ 144.85437  ┆ 144.475723 ┆ 143.640778 ┆ 143.514557 │\n",
       "│ 134.139999 ┆ 134.160004 ┆ 133.130005 ┆ 133.580002 │\n",
       "└────────────┴────────────┴────────────┴────────────┘"
      ]
     },
     "execution_count": 13,
     "metadata": {},
     "output_type": "execute_result"
    }
   ],
   "source": [
    "pastview = close_pl.transpose()\n",
    "\n",
    "pastview = pastview.rename(\n",
    "    {orig: orig.replace(\"column_\", \"period_\") for orig in pastview.columns}\n",
    ")\n",
    "\n",
    "window_size = 4\n",
    "stagger = 0\n",
    "\n",
    "pastview.select(pastview.columns[stagger : window_size + stagger])"
   ]
  },
  {
   "cell_type": "code",
   "execution_count": 14,
   "metadata": {},
   "outputs": [
    {
     "name": "stdout",
     "output_type": "stream",
     "text": [
      "False\n",
      "231.58999633789062\n"
     ]
    }
   ],
   "source": [
    "# now with the lib\n",
    "from backtest_lib.market.polars_impl import PolarsPastView\n",
    "from backtest_lib.market import PastView\n",
    "\n",
    "close_prices_df = close_pl.with_columns(pl.Series(\"date\", dates))\n",
    "past_cost_prices = PolarsPastView.from_data_frame(close_prices_df)\n",
    "print(isinstance(past_cost_prices, PastView))\n",
    "print(past_cost_prices.latest()[\"AAPL\"])"
   ]
  },
  {
   "cell_type": "code",
   "execution_count": 18,
   "metadata": {},
   "outputs": [
    {
     "name": "stdout",
     "output_type": "stream",
     "text": [
      "shape: (503, 5)\n",
      "┌───────────────────┬───────────────────┬───────────────────┬───────────────────┬──────────────────┐\n",
      "│ 2020-01-02 00:00: ┆ 2020-01-03 00:00: ┆ 2020-01-06 00:00: ┆ 2020-01-07 00:00: ┆ 2020-01-08 00:00 │\n",
      "│ 00.000000000      ┆ 00.000000000      ┆ 00.000000000      ┆ 00.000000000      ┆ :00.000000000    │\n",
      "│ ---               ┆ ---               ┆ ---               ┆ ---               ┆ ---              │\n",
      "│ f64               ┆ f64               ┆ f64               ┆ f64               ┆ f64              │\n",
      "╞═══════════════════╪═══════════════════╪═══════════════════╪═══════════════════╪══════════════════╡\n",
      "│ 87.639999         ┆ 87.239998         ┆ 87.550003         ┆ 90.199997         ┆ 91.400002        │\n",
      "│ 49.099998         ┆ 48.599998         ┆ 48.389999         ┆ 48.25             ┆ 47.830002        │\n",
      "│ 12.795            ┆ 12.553125         ┆ 12.67875          ┆ 12.803125         ┆ 12.93625         │\n",
      "│ 187.830002        ┆ 184.949997        ┆ 187.119995        ┆ 187.5             ┆ 189.949997       │\n",
      "│ 68.433998         ┆ 68.075996         ┆ 69.890503         ┆ 69.755501         ┆ 70.251999        │\n",
      "│ …                 ┆ …                 ┆ …                 ┆ …                 ┆ …                │\n",
      "│ 46.119999         ┆ 46.490002         ┆ 46.389999         ┆ 45.82             ┆ 45.880001        │\n",
      "│ 137.509995        ┆ 137.020004        ┆ 137.169998        ┆ 135.160004        ┆ 136.610001       │\n",
      "│ 259.140015        ┆ 256.049988        ┆ 258.01001         ┆ 256.470001        ┆ 247.639999       │\n",
      "│ 144.85437         ┆ 144.475723        ┆ 143.640778        ┆ 143.514557        ┆ 145.233017       │\n",
      "│ 134.139999        ┆ 134.160004        ┆ 133.130005        ┆ 133.580002        ┆ 133.289993       │\n",
      "└───────────────────┴───────────────────┴───────────────────┴───────────────────┴──────────────────┘\n"
     ]
    }
   ],
   "source": [
    "print(past_cost_prices.window(5).by_period)"
   ]
  },
  {
   "cell_type": "code",
   "execution_count": 16,
   "metadata": {},
   "outputs": [
    {
     "name": "stdout",
     "output_type": "stream",
     "text": [
      "PolarsPastView(by_period=shape: (503, 5)\n",
      "┌───────────────────┬───────────────────┬───────────────────┬───────────────────┬──────────────────┐\n",
      "│ 2020-01-06 00:00: ┆ 2020-01-07 00:00: ┆ 2020-01-08 00:00: ┆ 2020-01-09 00:00: ┆ 2020-01-10 00:00 │\n",
      "│ 00.000000000      ┆ 00.000000000      ┆ 00.000000000      ┆ 00.000000000      ┆ :00.000000000    │\n",
      "│ ---               ┆ ---               ┆ ---               ┆ ---               ┆ ---              │\n",
      "│ f64               ┆ f64               ┆ f64               ┆ f64               ┆ f64              │\n",
      "╞═══════════════════╪═══════════════════╪═══════════════════╪═══════════════════╪══════════════════╡\n",
      "│ 87.550003         ┆ 90.199997         ┆ 91.400002         ┆ 93.190002         ┆ 93.529999        │\n",
      "│ 48.389999         ┆ 48.25             ┆ 47.830002         ┆ 48.970001         ┆ 48.169998        │\n",
      "│ 12.67875          ┆ 12.803125         ┆ 12.93625          ┆ 12.925            ┆ 12.96625         │\n",
      "│ 187.119995        ┆ 187.5             ┆ 189.949997        ┆ 191.940002        ┆ 192.360001       │\n",
      "│ 69.890503         ┆ 69.755501         ┆ 70.251999         ┆ 70.989502         ┆ 71.447998        │\n",
      "│ …                 ┆ …                 ┆ …                 ┆ …                 ┆ …                │\n",
      "│ 46.389999         ┆ 45.82             ┆ 45.880001         ┆ 45.66             ┆ 46.049999        │\n",
      "│ 137.169998        ┆ 135.160004        ┆ 136.610001        ┆ 137.619995        ┆ 135.509995       │\n",
      "│ 258.01001         ┆ 256.470001        ┆ 247.639999        ┆ 246.5             ┆ 246.270004       │\n",
      "│ 143.640778        ┆ 143.514557        ┆ 145.233017        ┆ 144.271851        ┆ 145.621353       │\n",
      "│ 133.130005        ┆ 133.580002        ┆ 133.289993        ┆ 135.059998        ┆ 135.570007       │\n",
      "└───────────────────┴───────────────────┴───────────────────┴───────────────────┴──────────────────┘, by_security=shape: (5, 503)\n",
      "┌───────────┬───────────┬───────────┬───────────┬───┬───────────┬───────────┬───────────┬──────────┐\n",
      "│ AKAM      ┆ AMD       ┆ ANET      ┆ ADSK      ┆ … ┆ TRV       ┆ ZBRA      ┆ ZBH       ┆ ZTS      │\n",
      "│ ---       ┆ ---       ┆ ---       ┆ ---       ┆   ┆ ---       ┆ ---       ┆ ---       ┆ ---      │\n",
      "│ f64       ┆ f64       ┆ f64       ┆ f64       ┆   ┆ f64       ┆ f64       ┆ f64       ┆ f64      │\n",
      "╞═══════════╪═══════════╪═══════════╪═══════════╪═══╪═══════════╪═══════════╪═══════════╪══════════╡\n",
      "│ 87.550003 ┆ 48.389999 ┆ 12.67875  ┆ 187.11999 ┆ … ┆ 137.16999 ┆ 258.01001 ┆ 143.64077 ┆ 133.1300 │\n",
      "│           ┆           ┆           ┆ 5         ┆   ┆ 8         ┆           ┆ 8         ┆ 05       │\n",
      "│ 90.199997 ┆ 48.25     ┆ 12.803125 ┆ 187.5     ┆ … ┆ 135.16000 ┆ 256.47000 ┆ 143.51455 ┆ 133.5800 │\n",
      "│           ┆           ┆           ┆           ┆   ┆ 4         ┆ 1         ┆ 7         ┆ 02       │\n",
      "│ 91.400002 ┆ 47.830002 ┆ 12.93625  ┆ 189.94999 ┆ … ┆ 136.61000 ┆ 247.63999 ┆ 145.23301 ┆ 133.2899 │\n",
      "│           ┆           ┆           ┆ 7         ┆   ┆ 1         ┆ 9         ┆ 7         ┆ 93       │\n",
      "│ 93.190002 ┆ 48.970001 ┆ 12.925    ┆ 191.94000 ┆ … ┆ 137.61999 ┆ 246.5     ┆ 144.27185 ┆ 135.0599 │\n",
      "│           ┆           ┆           ┆ 2         ┆   ┆ 5         ┆           ┆ 1         ┆ 98       │\n",
      "│ 93.529999 ┆ 48.169998 ┆ 12.96625  ┆ 192.36000 ┆ … ┆ 135.50999 ┆ 246.27000 ┆ 145.62135 ┆ 135.5700 │\n",
      "│           ┆           ┆           ┆ 1         ┆   ┆ 5         ┆ 4         ┆ 3         ┆ 07       │\n",
      "└───────────┴───────────┴───────────┴───────────┴───┴───────────┴───────────┴───────────┴──────────┘, _security_axis=Axis(names=('AKAM', 'AMD', 'ANET', 'ADSK', 'GOOGL', 'A', 'AMT', 'ACGL', 'APTV', 'AJG', 'ADBE', 'ALGN', 'APO', 'ABNB', 'AFL', 'ACN', 'AEE', 'APD', 'APA', 'AOS', 'ARE', 'AEP', 'ATO', 'ABT', 'LNT', 'ADI', 'T', 'AON', 'ALB', 'ADP', 'AXP', 'AWK', 'MMM', 'AIG', 'AMP', 'AME', 'MO', 'AMGN', 'GOOG', 'AAPL', 'AMCR', 'AMZN', 'AMAT', 'APH', 'ALLE', 'AES', 'AIZ', 'ABBV', 'ADM', 'ALL', 'BKNG', 'AXON', 'CRL', 'AZO', 'BLDR', 'BLK', 'CARR', 'BXP', 'XYZ', 'CHTR', 'AVGO', 'CZR', 'CBRE', 'BRK-B', 'CF', 'CAH', 'BG', 'SCHW', 'BIIB', 'BAC', 'BAX', 'BDX', 'CDW', 'BALL', 'BMY', 'BKR', 'COF', 'TECH', 'AVY', 'BK', 'BA', 'BR', 'BRO', 'CAT', 'BX', 'BF-B', 'BSX', 'CBOE', 'CPT', 'CNC', 'COR', 'CDNS', 'KMX', 'BBY', 'AVB', 'CHRW', 'CCL', 'CPB', 'CVX', 'CNP', 'CSGP', 'DXCM', 'CPAY', 'CTVA', 'FANG', 'COIN', 'STZ', 'DELL', 'DLTR', 'CRWD', 'DDOG', 'DLR', 'DAY', 'CB', 'DVN', 'GLW', 'DECK', 'CPRT', 'COP', 'DRI', 'CTRA', 'CSX', 'CTAS', 'ED', 'COO', 'C', 'CHD', 'DE', 'CMS', 'CMI', 'CINF', 'CI', 'CFG', 'CAG', 'CCI', 'CSCO', 'CMG', 'CEG', 'DAL', 'DVA', 'COST', 'CME', 'DG', 'DHR', 'CTSH', 'CLX', 'CMCSA', 'CVS', 'KO', 'CL', 'ENPH', 'FFIV', 'EQIX', 'FSLR', 'FI', 'EPAM', 'EW', 'EA', 'DPZ', 'DD', 'ERIE', 'ESS', 'FDX', 'EQR', 'D', 'F', 'EMR', 'DOV', 'EXPE', 'EOG', 'FIS', 'EQT', 'EFX', 'DHI', 'EXE', 'EL', 'FICO', 'XOM', 'FAST', 'DTE', 'FRT', 'EXC', 'EG', 'ETR', 'ECL', 'FDS', 'DASH', 'EXR', 'FE', 'DUK', 'EBAY', 'ETN', 'DOW', 'FITB', 'EMN', 'EIX', 'ES', 'EXPD', 'EVRG', 'ELV', 'GEV', 'HCA', 'PODD', 'GNRC', 'HOLX', 'FTNT', 'HPE', 'GM', 'HII', 'GEHC', 'IT', 'GEN', 'FTV', 'HD', 'GDDY', 'HWM', 'DOC', 'HIG', 'INTC', 'GD', 'FOX', 'GPC', 'GE', 'HBAN', 'HUBB', 'HUM', 'BEN', 'HST', 'GIS', 'IBM', 'IR', 'HLT', 'HRL', 'HAS', 'GL', 'GS', 'IEX', 'INCY', 'IDXX', 'ITW', 'GPN', 'GRMN', 'FCX', 'HSIC', 'GILD', 'HPQ', 'HSY', 'HON', 'FOXA', 'HAL', 'ISRG', 'LYV', 'KVUE', 'LKQ', 'INVH', 'IVZ', 'ICE', 'IRM', 'J', 'LW', 'LII', 'MPC', 'INTU', 'KKR', 'LYB', 'KIM', 'LHX', 'KDP', 'MAR', 'L', 'JPM', 'LDOS', 'JCI', 'IP', 'KMB', 'JBL', 'JKHY', 'LIN', 'LH', 'LEN', 'LRCX', 'JNJ', 'KMI', 'LLY', 'JBHT', 'LMT', 'LULU', 'K', 'MTB', 'IPG', 'IQV', 'IFF', 'KR', 'MKTX', 'KEYS', 'KHC', 'KLAC', 'KEY', 'LOW', 'LVS', 'META', 'NVDA', 'MOH', 'MRNA', 'MSCI', 'MGM', 'MLM', 'NWSA', 'NWS', 'MDT', 'NCLH', 'NDAQ', 'MPWR', 'MCO', 'MTCH', 'MET', 'MS', 'MOS', 'NDSN', 'NXPI', 'NUE', 'MSI', 'MCD', 'TAP', 'MCK', 'NKE', 'NTAP', 'NEE', 'MRK', 'MA', 'MMC', 'MCHP', 'MNST', 'NRG', 'MKC', 'MAA', 'NSC', 'NOC', 'MTD', 'MHK', 'MAS', 'ORLY', 'MDLZ', 'NEM', 'MU', 'NVR', 'NFLX', 'MSFT', 'NI', 'NTRS', 'PLTR', 'ODFL', 'PTC', 'DGX', 'PM', 'PKG', 'REGN', 'PAYC', 'OTIS', 'PANW', 'PSKY', 'PYPL', 'POOL', 'PSX', 'PWR', 'PFG', 'PNR', 'OXY', 'PEG', 'OMC', 'PPG', 'RVTY', 'RF', 'PFE', 'PCAR', 'O', 'OKE', 'PLD', 'PNC', 'RTX', 'PG', 'PH', 'RL', 'PEP', 'PSA', 'REG', 'PNW', 'PGR', 'ON', 'RMD', 'PHM', 'QCOM', 'ORCL', 'RSG', 'PAYX', 'ROK', 'RJF', 'PCG', 'PRU', 'PPL', 'SOLV', 'TTWO', 'SYF', 'SWKS', 'TDG', 'TSLA', 'STE', 'SNPS', 'CRM', 'SBUX', 'TPR', 'TMUS', 'SJM', 'ROST', 'TMO', 'STX', 'SO', 'TXT', 'SPGI', 'SPG', 'SYK', 'TXN', 'ROP', 'TRGP', 'RCL', 'TGT', 'SNA', 'SLB', 'TPL', 'SWK', 'TJX', 'TT', 'STLD', 'SRE', 'SMCI', 'SBAC', 'SW', 'TSCO', 'ROL', 'TER', 'TKO', 'TROW', 'SHW', 'SYY', 'TDY', 'TEL', 'STT', 'NOW', 'TTD', 'LUV', 'WDAY', 'WAT', 'WBD', 'VRSN', 'TYL', 'UBER', 'VST', 'TRMB', 'VRTX', 'ULTA', 'XYL', 'TSN', 'WTW', 'GWW', 'V', 'USB', 'WDC', 'WAB', 'VMC', 'WSM', 'TFC', 'YUM', 'VTRS', 'WMB', 'XEL', 'VZ', 'WEC', 'WST', 'DIS', 'WRB', 'UPS', 'WM', 'UHS', 'URI', 'UAL', 'VLTO', 'WFC', 'VICI', 'UNH', 'WYNN', 'VTR', 'WBA', 'WELL', 'VRSK', 'VLO', 'WMT', 'WY', 'UNP', 'UDR', 'TRV', 'ZBRA', 'ZBH', 'ZTS'), pos={'AKAM': 0, 'AMD': 1, 'ANET': 2, 'ADSK': 3, 'GOOGL': 4, 'A': 5, 'AMT': 6, 'ACGL': 7, 'APTV': 8, 'AJG': 9, 'ADBE': 10, 'ALGN': 11, 'APO': 12, 'ABNB': 13, 'AFL': 14, 'ACN': 15, 'AEE': 16, 'APD': 17, 'APA': 18, 'AOS': 19, 'ARE': 20, 'AEP': 21, 'ATO': 22, 'ABT': 23, 'LNT': 24, 'ADI': 25, 'T': 26, 'AON': 27, 'ALB': 28, 'ADP': 29, 'AXP': 30, 'AWK': 31, 'MMM': 32, 'AIG': 33, 'AMP': 34, 'AME': 35, 'MO': 36, 'AMGN': 37, 'GOOG': 38, 'AAPL': 39, 'AMCR': 40, 'AMZN': 41, 'AMAT': 42, 'APH': 43, 'ALLE': 44, 'AES': 45, 'AIZ': 46, 'ABBV': 47, 'ADM': 48, 'ALL': 49, 'BKNG': 50, 'AXON': 51, 'CRL': 52, 'AZO': 53, 'BLDR': 54, 'BLK': 55, 'CARR': 56, 'BXP': 57, 'XYZ': 58, 'CHTR': 59, 'AVGO': 60, 'CZR': 61, 'CBRE': 62, 'BRK-B': 63, 'CF': 64, 'CAH': 65, 'BG': 66, 'SCHW': 67, 'BIIB': 68, 'BAC': 69, 'BAX': 70, 'BDX': 71, 'CDW': 72, 'BALL': 73, 'BMY': 74, 'BKR': 75, 'COF': 76, 'TECH': 77, 'AVY': 78, 'BK': 79, 'BA': 80, 'BR': 81, 'BRO': 82, 'CAT': 83, 'BX': 84, 'BF-B': 85, 'BSX': 86, 'CBOE': 87, 'CPT': 88, 'CNC': 89, 'COR': 90, 'CDNS': 91, 'KMX': 92, 'BBY': 93, 'AVB': 94, 'CHRW': 95, 'CCL': 96, 'CPB': 97, 'CVX': 98, 'CNP': 99, 'CSGP': 100, 'DXCM': 101, 'CPAY': 102, 'CTVA': 103, 'FANG': 104, 'COIN': 105, 'STZ': 106, 'DELL': 107, 'DLTR': 108, 'CRWD': 109, 'DDOG': 110, 'DLR': 111, 'DAY': 112, 'CB': 113, 'DVN': 114, 'GLW': 115, 'DECK': 116, 'CPRT': 117, 'COP': 118, 'DRI': 119, 'CTRA': 120, 'CSX': 121, 'CTAS': 122, 'ED': 123, 'COO': 124, 'C': 125, 'CHD': 126, 'DE': 127, 'CMS': 128, 'CMI': 129, 'CINF': 130, 'CI': 131, 'CFG': 132, 'CAG': 133, 'CCI': 134, 'CSCO': 135, 'CMG': 136, 'CEG': 137, 'DAL': 138, 'DVA': 139, 'COST': 140, 'CME': 141, 'DG': 142, 'DHR': 143, 'CTSH': 144, 'CLX': 145, 'CMCSA': 146, 'CVS': 147, 'KO': 148, 'CL': 149, 'ENPH': 150, 'FFIV': 151, 'EQIX': 152, 'FSLR': 153, 'FI': 154, 'EPAM': 155, 'EW': 156, 'EA': 157, 'DPZ': 158, 'DD': 159, 'ERIE': 160, 'ESS': 161, 'FDX': 162, 'EQR': 163, 'D': 164, 'F': 165, 'EMR': 166, 'DOV': 167, 'EXPE': 168, 'EOG': 169, 'FIS': 170, 'EQT': 171, 'EFX': 172, 'DHI': 173, 'EXE': 174, 'EL': 175, 'FICO': 176, 'XOM': 177, 'FAST': 178, 'DTE': 179, 'FRT': 180, 'EXC': 181, 'EG': 182, 'ETR': 183, 'ECL': 184, 'FDS': 185, 'DASH': 186, 'EXR': 187, 'FE': 188, 'DUK': 189, 'EBAY': 190, 'ETN': 191, 'DOW': 192, 'FITB': 193, 'EMN': 194, 'EIX': 195, 'ES': 196, 'EXPD': 197, 'EVRG': 198, 'ELV': 199, 'GEV': 200, 'HCA': 201, 'PODD': 202, 'GNRC': 203, 'HOLX': 204, 'FTNT': 205, 'HPE': 206, 'GM': 207, 'HII': 208, 'GEHC': 209, 'IT': 210, 'GEN': 211, 'FTV': 212, 'HD': 213, 'GDDY': 214, 'HWM': 215, 'DOC': 216, 'HIG': 217, 'INTC': 218, 'GD': 219, 'FOX': 220, 'GPC': 221, 'GE': 222, 'HBAN': 223, 'HUBB': 224, 'HUM': 225, 'BEN': 226, 'HST': 227, 'GIS': 228, 'IBM': 229, 'IR': 230, 'HLT': 231, 'HRL': 232, 'HAS': 233, 'GL': 234, 'GS': 235, 'IEX': 236, 'INCY': 237, 'IDXX': 238, 'ITW': 239, 'GPN': 240, 'GRMN': 241, 'FCX': 242, 'HSIC': 243, 'GILD': 244, 'HPQ': 245, 'HSY': 246, 'HON': 247, 'FOXA': 248, 'HAL': 249, 'ISRG': 250, 'LYV': 251, 'KVUE': 252, 'LKQ': 253, 'INVH': 254, 'IVZ': 255, 'ICE': 256, 'IRM': 257, 'J': 258, 'LW': 259, 'LII': 260, 'MPC': 261, 'INTU': 262, 'KKR': 263, 'LYB': 264, 'KIM': 265, 'LHX': 266, 'KDP': 267, 'MAR': 268, 'L': 269, 'JPM': 270, 'LDOS': 271, 'JCI': 272, 'IP': 273, 'KMB': 274, 'JBL': 275, 'JKHY': 276, 'LIN': 277, 'LH': 278, 'LEN': 279, 'LRCX': 280, 'JNJ': 281, 'KMI': 282, 'LLY': 283, 'JBHT': 284, 'LMT': 285, 'LULU': 286, 'K': 287, 'MTB': 288, 'IPG': 289, 'IQV': 290, 'IFF': 291, 'KR': 292, 'MKTX': 293, 'KEYS': 294, 'KHC': 295, 'KLAC': 296, 'KEY': 297, 'LOW': 298, 'LVS': 299, 'META': 300, 'NVDA': 301, 'MOH': 302, 'MRNA': 303, 'MSCI': 304, 'MGM': 305, 'MLM': 306, 'NWSA': 307, 'NWS': 308, 'MDT': 309, 'NCLH': 310, 'NDAQ': 311, 'MPWR': 312, 'MCO': 313, 'MTCH': 314, 'MET': 315, 'MS': 316, 'MOS': 317, 'NDSN': 318, 'NXPI': 319, 'NUE': 320, 'MSI': 321, 'MCD': 322, 'TAP': 323, 'MCK': 324, 'NKE': 325, 'NTAP': 326, 'NEE': 327, 'MRK': 328, 'MA': 329, 'MMC': 330, 'MCHP': 331, 'MNST': 332, 'NRG': 333, 'MKC': 334, 'MAA': 335, 'NSC': 336, 'NOC': 337, 'MTD': 338, 'MHK': 339, 'MAS': 340, 'ORLY': 341, 'MDLZ': 342, 'NEM': 343, 'MU': 344, 'NVR': 345, 'NFLX': 346, 'MSFT': 347, 'NI': 348, 'NTRS': 349, 'PLTR': 350, 'ODFL': 351, 'PTC': 352, 'DGX': 353, 'PM': 354, 'PKG': 355, 'REGN': 356, 'PAYC': 357, 'OTIS': 358, 'PANW': 359, 'PSKY': 360, 'PYPL': 361, 'POOL': 362, 'PSX': 363, 'PWR': 364, 'PFG': 365, 'PNR': 366, 'OXY': 367, 'PEG': 368, 'OMC': 369, 'PPG': 370, 'RVTY': 371, 'RF': 372, 'PFE': 373, 'PCAR': 374, 'O': 375, 'OKE': 376, 'PLD': 377, 'PNC': 378, 'RTX': 379, 'PG': 380, 'PH': 381, 'RL': 382, 'PEP': 383, 'PSA': 384, 'REG': 385, 'PNW': 386, 'PGR': 387, 'ON': 388, 'RMD': 389, 'PHM': 390, 'QCOM': 391, 'ORCL': 392, 'RSG': 393, 'PAYX': 394, 'ROK': 395, 'RJF': 396, 'PCG': 397, 'PRU': 398, 'PPL': 399, 'SOLV': 400, 'TTWO': 401, 'SYF': 402, 'SWKS': 403, 'TDG': 404, 'TSLA': 405, 'STE': 406, 'SNPS': 407, 'CRM': 408, 'SBUX': 409, 'TPR': 410, 'TMUS': 411, 'SJM': 412, 'ROST': 413, 'TMO': 414, 'STX': 415, 'SO': 416, 'TXT': 417, 'SPGI': 418, 'SPG': 419, 'SYK': 420, 'TXN': 421, 'ROP': 422, 'TRGP': 423, 'RCL': 424, 'TGT': 425, 'SNA': 426, 'SLB': 427, 'TPL': 428, 'SWK': 429, 'TJX': 430, 'TT': 431, 'STLD': 432, 'SRE': 433, 'SMCI': 434, 'SBAC': 435, 'SW': 436, 'TSCO': 437, 'ROL': 438, 'TER': 439, 'TKO': 440, 'TROW': 441, 'SHW': 442, 'SYY': 443, 'TDY': 444, 'TEL': 445, 'STT': 446, 'NOW': 447, 'TTD': 448, 'LUV': 449, 'WDAY': 450, 'WAT': 451, 'WBD': 452, 'VRSN': 453, 'TYL': 454, 'UBER': 455, 'VST': 456, 'TRMB': 457, 'VRTX': 458, 'ULTA': 459, 'XYL': 460, 'TSN': 461, 'WTW': 462, 'GWW': 463, 'V': 464, 'USB': 465, 'WDC': 466, 'WAB': 467, 'VMC': 468, 'WSM': 469, 'TFC': 470, 'YUM': 471, 'VTRS': 472, 'WMB': 473, 'XEL': 474, 'VZ': 475, 'WEC': 476, 'WST': 477, 'DIS': 478, 'WRB': 479, 'UPS': 480, 'WM': 481, 'UHS': 482, 'URI': 483, 'UAL': 484, 'VLTO': 485, 'WFC': 486, 'VICI': 487, 'UNH': 488, 'WYNN': 489, 'VTR': 490, 'WBA': 491, 'WELL': 492, 'VRSK': 493, 'VLO': 494, 'WMT': 495, 'WY': 496, 'UNP': 497, 'UDR': 498, 'TRV': 499, 'ZBRA': 500, 'ZBH': 501, 'ZTS': 502}), _period_axis=PeriodAxis(dt64=array(['2020-01-06T00:00:00.000000000', '2020-01-07T00:00:00.000000000',\n",
      "       '2020-01-08T00:00:00.000000000', '2020-01-09T00:00:00.000000000',\n",
      "       '2020-01-10T00:00:00.000000000'], dtype='datetime64[ns]'), labels=('2020-01-06 00:00:00.000000000', '2020-01-07 00:00:00.000000000', '2020-01-08 00:00:00.000000000', '2020-01-09 00:00:00.000000000', '2020-01-10 00:00:00.000000000'), pos={'2020-01-06 00:00:00.000000000': 0, '2020-01-07 00:00:00.000000000': 1, '2020-01-08 00:00:00.000000000': 2, '2020-01-09 00:00:00.000000000': 3, '2020-01-10 00:00:00.000000000': 4}))\n"
     ]
    }
   ],
   "source": [
    "print(past_cost_prices.window(5, stagger=2))"
   ]
  },
  {
   "cell_type": "code",
   "execution_count": null,
   "metadata": {},
   "outputs": [],
   "source": []
  }
 ],
 "metadata": {
  "kernelspec": {
   "display_name": ".venv",
   "language": "python",
   "name": "python3"
  },
  "language_info": {
   "codemirror_mode": {
    "name": "ipython",
    "version": 3
   },
   "file_extension": ".py",
   "mimetype": "text/x-python",
   "name": "python",
   "nbconvert_exporter": "python",
   "pygments_lexer": "ipython3",
   "version": "3.13.4"
  }
 },
 "nbformat": 4,
 "nbformat_minor": 2
}
