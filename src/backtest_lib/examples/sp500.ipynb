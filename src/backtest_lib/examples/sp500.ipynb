{
 "cells": [
  {
   "cell_type": "code",
   "execution_count": 1,
   "metadata": {},
   "outputs": [
    {
     "name": "stdout",
     "output_type": "stream",
     "text": [
      "Fetching MMM...ADP\n"
     ]
    },
    {
     "name": "stderr",
     "output_type": "stream",
     "text": [
      "[*********************100%***********************]  50 of 50 completed\n",
      "[***                    6%                       ]  3 of 50 completed"
     ]
    },
    {
     "name": "stdout",
     "output_type": "stream",
     "text": [
      "Fetching AZO...CVX\n"
     ]
    },
    {
     "name": "stderr",
     "output_type": "stream",
     "text": [
      "[*********************100%***********************]  50 of 50 completed\n",
      "[                       0%                       ]"
     ]
    },
    {
     "name": "stdout",
     "output_type": "stream",
     "text": [
      "Fetching CMG...DLTR\n"
     ]
    },
    {
     "name": "stderr",
     "output_type": "stream",
     "text": [
      "[*********************100%***********************]  50 of 50 completed\n",
      "[                       0%                       ]"
     ]
    },
    {
     "name": "stdout",
     "output_type": "stream",
     "text": [
      "Fetching D...F\n"
     ]
    },
    {
     "name": "stderr",
     "output_type": "stream",
     "text": [
      "[*********************100%***********************]  50 of 50 completed\n",
      "[****                   8%                       ]  4 of 50 completed"
     ]
    },
    {
     "name": "stdout",
     "output_type": "stream",
     "text": [
      "Fetching FTNT...INTC\n"
     ]
    },
    {
     "name": "stderr",
     "output_type": "stream",
     "text": [
      "[*********************100%***********************]  50 of 50 completed\n",
      "[                       0%                       ]"
     ]
    },
    {
     "name": "stdout",
     "output_type": "stream",
     "text": [
      "Fetching ICE...MAR\n"
     ]
    },
    {
     "name": "stderr",
     "output_type": "stream",
     "text": [
      "[*********************100%***********************]  50 of 50 completed\n",
      "[                       0%                       ]"
     ]
    },
    {
     "name": "stdout",
     "output_type": "stream",
     "text": [
      "Fetching MMC...ORLY\n"
     ]
    },
    {
     "name": "stderr",
     "output_type": "stream",
     "text": [
      "[*********************100%***********************]  50 of 50 completed\n",
      "[**                     4%                       ]  2 of 50 completed"
     ]
    },
    {
     "name": "stdout",
     "output_type": "stream",
     "text": [
      "Fetching OXY...ROK\n"
     ]
    },
    {
     "name": "stderr",
     "output_type": "stream",
     "text": [
      "[*********************100%***********************]  50 of 50 completed\n",
      "[**                     4%                       ]  2 of 50 completed"
     ]
    },
    {
     "name": "stdout",
     "output_type": "stream",
     "text": [
      "Fetching ROL...TDG\n"
     ]
    },
    {
     "name": "stderr",
     "output_type": "stream",
     "text": [
      "[*********************100%***********************]  50 of 50 completed\n",
      "[                       0%                       ]"
     ]
    },
    {
     "name": "stdout",
     "output_type": "stream",
     "text": [
      "Fetching TRV...YUM\n"
     ]
    },
    {
     "name": "stderr",
     "output_type": "stream",
     "text": [
      "[*********************100%***********************]  50 of 50 completed\n",
      "[*********************100%***********************]  3 of 3 completed"
     ]
    },
    {
     "name": "stdout",
     "output_type": "stream",
     "text": [
      "Fetching ZBRA...ZTS\n"
     ]
    },
    {
     "name": "stderr",
     "output_type": "stream",
     "text": [
      "\n"
     ]
    }
   ],
   "source": [
    "import pandas as pd\n",
    "import yfinance as yf\n",
    "import time\n",
    "\n",
    "sp500_url = \"https://en.wikipedia.org/wiki/List_of_S%26P_500_companies\"\n",
    "table = pd.read_html(sp500_url)\n",
    "sp500_df = table[0]  # First table is the constituents list\n",
    "tickers = sp500_df[\"Symbol\"].tolist()\n",
    "\n",
    "# Yahoo uses BRK-B instead of BRK.B, same for BF-B -> BF.B\n",
    "tickers = [t.replace(\".\", \"-\") for t in tickers]\n",
    "\n",
    "\n",
    "def fetch_history(tickers, start=\"2020-01-01\", end=None, interval=\"1d\"):\n",
    "    all_data = []\n",
    "    chunk_size = 50  # <= 100 is safer\n",
    "\n",
    "    for i in range(0, len(tickers), chunk_size):\n",
    "        batch = tickers[i : i + chunk_size]\n",
    "        print(f\"Fetching {batch[0]}...{batch[-1]}\")\n",
    "\n",
    "        df = yf.download(\n",
    "            tickers=batch,\n",
    "            start=start,\n",
    "            end=end,\n",
    "            interval=interval,\n",
    "            group_by=\"ticker\",\n",
    "            auto_adjust=False,\n",
    "            threads=True,\n",
    "        )\n",
    "        all_data.append(df)\n",
    "\n",
    "        time.sleep(1.5)  # avoid being throttled\n",
    "\n",
    "    return all_data\n",
    "\n",
    "\n",
    "history_batches = fetch_history(tickers, start=\"2020-01-01\")\n"
   ]
  },
  {
   "cell_type": "code",
   "execution_count": 2,
   "metadata": {},
   "outputs": [],
   "source": [
    "# Merge batches\n",
    "history = pd.concat(history_batches, axis=1)\n",
    "\n",
    "# Example: get Close prices in wide format\n",
    "close_df = history.xs(\"Close\", axis=1, level=1)\n",
    "\n",
    "# Similarly for Open/High/Low/Volume\n",
    "open_df = history.xs(\"Open\", axis=1, level=1)\n",
    "high_df = history.xs(\"High\", axis=1, level=1)\n",
    "low_df = history.xs(\"Low\", axis=1, level=1)\n",
    "vol_df = history.xs(\"Volume\", axis=1, level=1)\n"
   ]
  },
  {
   "cell_type": "code",
   "execution_count": 3,
   "metadata": {},
   "outputs": [],
   "source": [
    "dates = history.index.values"
   ]
  },
  {
   "cell_type": "code",
   "execution_count": 4,
   "metadata": {},
   "outputs": [],
   "source": [
    "# Convert to polars for your pipeline\n",
    "import polars as pl\n",
    "from backtest_lib.market.polars_impl import Axis\n",
    "close_pl = pl.from_pandas(close_df)\n",
    "securities = close_pl.columns\n",
    "axis = Axis.from_names(securities)"
   ]
  },
  {
   "cell_type": "code",
   "execution_count": null,
   "metadata": {},
   "outputs": [],
   "source": []
  },
  {
   "cell_type": "code",
   "execution_count": 5,
   "metadata": {},
   "outputs": [
    {
     "data": {
      "text/html": [
       "<div><style>\n",
       ".dataframe > thead > tr,\n",
       ".dataframe > tbody > tr {\n",
       "  text-align: right;\n",
       "  white-space: pre-wrap;\n",
       "}\n",
       "</style>\n",
       "<small>shape: (503, 4)</small><table border=\"1\" class=\"dataframe\"><thead><tr><th>period_0</th><th>period_1</th><th>period_2</th><th>period_3</th></tr><tr><td>f64</td><td>f64</td><td>f64</td><td>f64</td></tr></thead><tbody><tr><td>283.679993</td><td>280.440002</td><td>285.880005</td><td>283.059998</td></tr><tr><td>10.63</td><td>10.49</td><td>10.42</td><td>10.33</td></tr><tr><td>47.66</td><td>47.310001</td><td>47.580002</td><td>47.630001</td></tr><tr><td>87.639999</td><td>87.239998</td><td>87.550003</td><td>90.199997</td></tr><tr><td>96.309998</td><td>94.099998</td><td>92.349998</td><td>91.190002</td></tr><tr><td>&hellip;</td><td>&hellip;</td><td>&hellip;</td><td>&hellip;</td></tr><tr><td>204.279999</td><td>204.330002</td><td>204.580002</td><td>204.160004</td></tr><tr><td>344.709991</td><td>340.660004</td><td>337.48999</td><td>337.839996</td></tr><tr><td>134.139999</td><td>134.160004</td><td>133.130005</td><td>133.580002</td></tr><tr><td>144.85437</td><td>144.475723</td><td>143.640778</td><td>143.514557</td></tr><tr><td>259.140015</td><td>256.049988</td><td>258.01001</td><td>256.470001</td></tr></tbody></table></div>"
      ],
      "text/plain": [
       "shape: (503, 4)\n",
       "┌────────────┬────────────┬────────────┬────────────┐\n",
       "│ period_0   ┆ period_1   ┆ period_2   ┆ period_3   │\n",
       "│ ---        ┆ ---        ┆ ---        ┆ ---        │\n",
       "│ f64        ┆ f64        ┆ f64        ┆ f64        │\n",
       "╞════════════╪════════════╪════════════╪════════════╡\n",
       "│ 283.679993 ┆ 280.440002 ┆ 285.880005 ┆ 283.059998 │\n",
       "│ 10.63      ┆ 10.49      ┆ 10.42      ┆ 10.33      │\n",
       "│ 47.66      ┆ 47.310001  ┆ 47.580002  ┆ 47.630001  │\n",
       "│ 87.639999  ┆ 87.239998  ┆ 87.550003  ┆ 90.199997  │\n",
       "│ 96.309998  ┆ 94.099998  ┆ 92.349998  ┆ 91.190002  │\n",
       "│ …          ┆ …          ┆ …          ┆ …          │\n",
       "│ 204.279999 ┆ 204.330002 ┆ 204.580002 ┆ 204.160004 │\n",
       "│ 344.709991 ┆ 340.660004 ┆ 337.48999  ┆ 337.839996 │\n",
       "│ 134.139999 ┆ 134.160004 ┆ 133.130005 ┆ 133.580002 │\n",
       "│ 144.85437  ┆ 144.475723 ┆ 143.640778 ┆ 143.514557 │\n",
       "│ 259.140015 ┆ 256.049988 ┆ 258.01001  ┆ 256.470001 │\n",
       "└────────────┴────────────┴────────────┴────────────┘"
      ]
     },
     "execution_count": 5,
     "metadata": {},
     "output_type": "execute_result"
    }
   ],
   "source": [
    "\n",
    "pastview = close_pl.transpose()\n",
    "\n",
    "pastview = pastview.rename({orig: orig.replace(\"column_\", \"period_\") for orig in pastview.columns})\n",
    "\n",
    "window_size = 4\n",
    "stagger = 0\n",
    "\n",
    "pastview.select(pastview.columns[stagger:window_size+stagger])"
   ]
  },
  {
   "cell_type": "code",
   "execution_count": 9,
   "metadata": {},
   "outputs": [
    {
     "name": "stdout",
     "output_type": "stream",
     "text": [
      "True\n",
      "75.0875015258789\n"
     ]
    }
   ],
   "source": [
    "# now with the lib\n",
    "from backtest_lib.market.polars_impl import PolarsPastView\n",
    "from backtest_lib.market import PastView\n",
    "from backtest_lib.universe import UniverseMapping\n",
    "\n",
    "close_prices_df = close_pl.with_columns(pl.Series(\"date\", dates))\n",
    "past_cost_prices = PolarsPastView.from_data_frame(close_prices_df)\n",
    "print(isinstance(past_cost_prices, PastView))\n",
    "print(past_cost_prices.latest()[\"AAPL\"])"
   ]
  },
  {
   "cell_type": "code",
   "execution_count": 10,
   "metadata": {},
   "outputs": [
    {
     "name": "stdout",
     "output_type": "stream",
     "text": [
      "PolarsPastView(_inner_df=shape: (503, 5)\n",
      "┌────────────┬────────────┬────────────┬────────────┬────────────┐\n",
      "│ period_0   ┆ period_1   ┆ period_2   ┆ period_3   ┆ period_4   │\n",
      "│ ---        ┆ ---        ┆ ---        ┆ ---        ┆ ---        │\n",
      "│ f64        ┆ f64        ┆ f64        ┆ f64        ┆ f64        │\n",
      "╞════════════╪════════════╪════════════╪════════════╪════════════╡\n",
      "│ 283.679993 ┆ 280.440002 ┆ 285.880005 ┆ 283.059998 ┆ 286.0      │\n",
      "│ 10.63      ┆ 10.49      ┆ 10.42      ┆ 10.33      ┆ 10.37      │\n",
      "│ 47.66      ┆ 47.310001  ┆ 47.580002  ┆ 47.630001  ┆ 48.650002  │\n",
      "│ 87.639999  ┆ 87.239998  ┆ 87.550003  ┆ 90.199997  ┆ 91.400002  │\n",
      "│ 96.309998  ┆ 94.099998  ┆ 92.349998  ┆ 91.190002  ┆ 93.089996  │\n",
      "│ …          ┆ …          ┆ …          ┆ …          ┆ …          │\n",
      "│ 204.279999 ┆ 204.330002 ┆ 204.580002 ┆ 204.160004 ┆ 204.389999 │\n",
      "│ 344.709991 ┆ 340.660004 ┆ 337.48999  ┆ 337.839996 ┆ 341.410004 │\n",
      "│ 134.139999 ┆ 134.160004 ┆ 133.130005 ┆ 133.580002 ┆ 133.289993 │\n",
      "│ 144.85437  ┆ 144.475723 ┆ 143.640778 ┆ 143.514557 ┆ 145.233017 │\n",
      "│ 259.140015 ┆ 256.049988 ┆ 258.01001  ┆ 256.470001 ┆ 247.639999 │\n",
      "└────────────┴────────────┴────────────┴────────────┴────────────┘, _axis=Axis(names=('ALGN', 'AMCR', 'APO', 'AKAM', 'APTV', 'AMD', 'ADBE', 'AMZN', 'ARE', 'AMAT', 'AMT', 'ABBV', 'GOOGL', 'AES', 'ATO', 'AEP', 'MO', 'AIG', 'AFL', 'AWK', 'GOOG', 'AXP', 'ADM', 'AME', 'ALB', 'ALL', 'AJG', 'AAPL', 'A', 'APH', 'APA', 'APD', 'AON', 'AOS', 'AIZ', 'ACGL', 'AEE', 'T', 'AMP', 'ABNB', 'ADP', 'ADSK', 'AMGN', 'ABT', 'ANET', 'ALLE', 'LNT', 'ADI', 'ACN', 'MMM', 'BSX', 'CRL', 'CNC', 'CBRE', 'BX', 'CDNS', 'BIIB', 'AZO', 'BLK', 'XYZ', 'BR', 'KMX', 'CHRW', 'BG', 'COF', 'BAC', 'AVB', 'CHTR', 'BRO', 'CPT', 'CDW', 'SCHW', 'AVGO', 'BMY', 'CAH', 'BKR', 'BAX', 'BXP', 'BALL', 'BA', 'BLDR', 'CPB', 'CBOE', 'CAT', 'BKNG', 'TECH', 'BRK-B', 'COR', 'BBY', 'CZR', 'CARR', 'CVX', 'CF', 'AXON', 'BDX', 'CCL', 'BF-B', 'CNP', 'AVY', 'BK', 'DVA', 'DECK', 'CEG', 'DDOG', 'CTSH', 'DAY', 'CMG', 'CPRT', 'CSGP', 'CRWD', 'CSCO', 'COIN', 'FANG', 'CI', 'DE', 'GLW', 'COST', 'CFG', 'CTRA', 'CLX', 'COO', 'DHR', 'CTAS', 'CVS', 'CMI', 'C', 'CME', 'KO', 'CL', 'DAL', 'CSX', 'COP', 'CAG', 'CCI', 'CPAY', 'DELL', 'DLR', 'DLTR', 'DXCM', 'DRI', 'ED', 'STZ', 'CINF', 'DG', 'CHD', 'CMCSA', 'CMS', 'CB', 'DVN', 'CTVA', 'DOW', 'EW', 'EA', 'FSLR', 'EXPE', 'EXE', 'EXPD', 'FI', 'DUK', 'EMN', 'FITB', 'EOG', 'EQT', 'ELV', 'FDS', 'DPZ', 'EQIX', 'DHI', 'ERIE', 'FE', 'F', 'EMR', 'EXR', 'EBAY', 'EQR', 'ETN', 'EIX', 'DOV', 'ES', 'EVRG', 'ECL', 'EXC', 'ENPH', 'DD', 'DTE', 'FICO', 'DASH', 'EG', 'FAST', 'FFIV', 'D', 'ESS', 'FRT', 'EPAM', 'EFX', 'FIS', 'FDX', 'EL', 'ETR', 'XOM', 'PODD', 'GEV', 'IDXX', 'GEHC', 'FCX', 'HOLX', 'HLT', 'FOXA', 'INCY', 'FOX', 'IR', 'HII', 'HD', 'IT', 'HIG', 'HBAN', 'HAL', 'GRMN', 'HSY', 'HUBB', 'GPC', 'HWM', 'HAS', 'DOC', 'FTV', 'GL', 'INTC', 'HRL', 'HPQ', 'BEN', 'GD', 'GE', 'HCA', 'GIS', 'GNRC', 'GILD', 'HPE', 'FTNT', 'GEN', 'HSIC', 'IEX', 'HUM', 'HON', 'GPN', 'HST', 'GDDY', 'GS', 'GM', 'ITW', 'IBM', 'ISRG', 'LKQ', 'KVUE', 'MPC', 'INVH', 'KEYS', 'MKTX', 'LYV', 'LVS', 'LRCX', 'JKHY', 'INTU', 'MAR', 'J', 'LDOS', 'KLAC', 'IPG', 'LHX', 'JPM', 'KDP', 'KMB', 'L', 'MTB', 'IVZ', 'JCI', 'LEN', 'LMT', 'IFF', 'JBHT', 'LOW', 'KEY', 'IQV', 'IP', 'K', 'KMI', 'KKR', 'IRM', 'JNJ', 'LW', 'KR', 'LYB', 'LULU', 'LIN', 'KHC', 'KIM', 'JBL', 'ICE', 'LH', 'LII', 'LLY', 'MTD', 'MOH', 'MRNA', 'NFLX', 'NDAQ', 'NWS', 'NWSA', 'NVR', 'MA', 'MTCH', 'NDSN', 'MS', 'ORLY', 'MSFT', 'NTAP', 'MCK', 'MOS', 'NTRS', 'NOC', 'NEE', 'NVDA', 'MKC', 'NI', 'MLM', 'NKE', 'MU', 'NSC', 'NUE', 'TAP', 'MET', 'MMC', 'MRK', 'META', 'NRG', 'MCO', 'MAS', 'MDLZ', 'NXPI', 'MSCI', 'MGM', 'NCLH', 'MPWR', 'MHK', 'MNST', 'MSI', 'MDT', 'MCHP', 'NEM', 'MAA', 'MCD', 'PLTR', 'PSKY', 'RSG', 'OTIS', 'PFG', 'PAYC', 'PWR', 'PCG', 'REGN', 'PNW', 'PKG', 'PRU', 'PNR', 'REG', 'PPL', 'OMC', 'RMD', 'PEG', 'ORCL', 'RTX', 'OXY', 'OKE', 'RF', 'PAYX', 'PGR', 'PNC', 'PEP', 'RJF', 'QCOM', 'PCAR', 'PSA', 'PSX', 'POOL', 'PTC', 'ON', 'PM', 'PANW', 'RL', 'DGX', 'PH', 'O', 'PPG', 'PYPL', 'ROK', 'PLD', 'ODFL', 'PG', 'PHM', 'RVTY', 'PFE', 'SNPS', 'NOW', 'TDY', 'SJM', 'TRGP', 'SBAC', 'TMUS', 'SMCI', 'TER', 'SOLV', 'SW', 'SHW', 'SBUX', 'SYK', 'RCL', 'ROST', 'STX', 'STT', 'ROL', 'TT', 'STLD', 'TROW', 'TTWO', 'SPGI', 'TMO', 'LUV', 'ROP', 'SLB', 'TGT', 'SPG', 'SYY', 'SWK', 'SO', 'TKO', 'CRM', 'SNA', 'SYF', 'SWKS', 'TTD', 'TPL', 'SRE', 'TPR', 'TEL', 'TSLA', 'TSCO', 'TDG', 'STE', 'TJX', 'TXN', 'TXT', 'TRMB', 'VLTO', 'UBER', 'WDC', 'ULTA', 'WDAY', 'USB', 'UNH', 'XYL', 'VZ', 'UNP', 'WRB', 'WELL', 'UHS', 'VRTX', 'WY', 'VTRS', 'TRV', 'V', 'TFC', 'URI', 'WEC', 'VRSN', 'XEL', 'WM', 'WAB', 'WST', 'DIS', 'VMC', 'TSN', 'WFC', 'WMT', 'UPS', 'WMB', 'WBD', 'UAL', 'UDR', 'VRSK', 'WAT', 'VICI', 'VLO', 'YUM', 'WBA', 'WSM', 'TYL', 'VST', 'WYNN', 'VTR', 'WTW', 'GWW', 'ZTS', 'ZBH', 'ZBRA'), pos={'ALGN': 0, 'AMCR': 1, 'APO': 2, 'AKAM': 3, 'APTV': 4, 'AMD': 5, 'ADBE': 6, 'AMZN': 7, 'ARE': 8, 'AMAT': 9, 'AMT': 10, 'ABBV': 11, 'GOOGL': 12, 'AES': 13, 'ATO': 14, 'AEP': 15, 'MO': 16, 'AIG': 17, 'AFL': 18, 'AWK': 19, 'GOOG': 20, 'AXP': 21, 'ADM': 22, 'AME': 23, 'ALB': 24, 'ALL': 25, 'AJG': 26, 'AAPL': 27, 'A': 28, 'APH': 29, 'APA': 30, 'APD': 31, 'AON': 32, 'AOS': 33, 'AIZ': 34, 'ACGL': 35, 'AEE': 36, 'T': 37, 'AMP': 38, 'ABNB': 39, 'ADP': 40, 'ADSK': 41, 'AMGN': 42, 'ABT': 43, 'ANET': 44, 'ALLE': 45, 'LNT': 46, 'ADI': 47, 'ACN': 48, 'MMM': 49, 'BSX': 50, 'CRL': 51, 'CNC': 52, 'CBRE': 53, 'BX': 54, 'CDNS': 55, 'BIIB': 56, 'AZO': 57, 'BLK': 58, 'XYZ': 59, 'BR': 60, 'KMX': 61, 'CHRW': 62, 'BG': 63, 'COF': 64, 'BAC': 65, 'AVB': 66, 'CHTR': 67, 'BRO': 68, 'CPT': 69, 'CDW': 70, 'SCHW': 71, 'AVGO': 72, 'BMY': 73, 'CAH': 74, 'BKR': 75, 'BAX': 76, 'BXP': 77, 'BALL': 78, 'BA': 79, 'BLDR': 80, 'CPB': 81, 'CBOE': 82, 'CAT': 83, 'BKNG': 84, 'TECH': 85, 'BRK-B': 86, 'COR': 87, 'BBY': 88, 'CZR': 89, 'CARR': 90, 'CVX': 91, 'CF': 92, 'AXON': 93, 'BDX': 94, 'CCL': 95, 'BF-B': 96, 'CNP': 97, 'AVY': 98, 'BK': 99, 'DVA': 100, 'DECK': 101, 'CEG': 102, 'DDOG': 103, 'CTSH': 104, 'DAY': 105, 'CMG': 106, 'CPRT': 107, 'CSGP': 108, 'CRWD': 109, 'CSCO': 110, 'COIN': 111, 'FANG': 112, 'CI': 113, 'DE': 114, 'GLW': 115, 'COST': 116, 'CFG': 117, 'CTRA': 118, 'CLX': 119, 'COO': 120, 'DHR': 121, 'CTAS': 122, 'CVS': 123, 'CMI': 124, 'C': 125, 'CME': 126, 'KO': 127, 'CL': 128, 'DAL': 129, 'CSX': 130, 'COP': 131, 'CAG': 132, 'CCI': 133, 'CPAY': 134, 'DELL': 135, 'DLR': 136, 'DLTR': 137, 'DXCM': 138, 'DRI': 139, 'ED': 140, 'STZ': 141, 'CINF': 142, 'DG': 143, 'CHD': 144, 'CMCSA': 145, 'CMS': 146, 'CB': 147, 'DVN': 148, 'CTVA': 149, 'DOW': 150, 'EW': 151, 'EA': 152, 'FSLR': 153, 'EXPE': 154, 'EXE': 155, 'EXPD': 156, 'FI': 157, 'DUK': 158, 'EMN': 159, 'FITB': 160, 'EOG': 161, 'EQT': 162, 'ELV': 163, 'FDS': 164, 'DPZ': 165, 'EQIX': 166, 'DHI': 167, 'ERIE': 168, 'FE': 169, 'F': 170, 'EMR': 171, 'EXR': 172, 'EBAY': 173, 'EQR': 174, 'ETN': 175, 'EIX': 176, 'DOV': 177, 'ES': 178, 'EVRG': 179, 'ECL': 180, 'EXC': 181, 'ENPH': 182, 'DD': 183, 'DTE': 184, 'FICO': 185, 'DASH': 186, 'EG': 187, 'FAST': 188, 'FFIV': 189, 'D': 190, 'ESS': 191, 'FRT': 192, 'EPAM': 193, 'EFX': 194, 'FIS': 195, 'FDX': 196, 'EL': 197, 'ETR': 198, 'XOM': 199, 'PODD': 200, 'GEV': 201, 'IDXX': 202, 'GEHC': 203, 'FCX': 204, 'HOLX': 205, 'HLT': 206, 'FOXA': 207, 'INCY': 208, 'FOX': 209, 'IR': 210, 'HII': 211, 'HD': 212, 'IT': 213, 'HIG': 214, 'HBAN': 215, 'HAL': 216, 'GRMN': 217, 'HSY': 218, 'HUBB': 219, 'GPC': 220, 'HWM': 221, 'HAS': 222, 'DOC': 223, 'FTV': 224, 'GL': 225, 'INTC': 226, 'HRL': 227, 'HPQ': 228, 'BEN': 229, 'GD': 230, 'GE': 231, 'HCA': 232, 'GIS': 233, 'GNRC': 234, 'GILD': 235, 'HPE': 236, 'FTNT': 237, 'GEN': 238, 'HSIC': 239, 'IEX': 240, 'HUM': 241, 'HON': 242, 'GPN': 243, 'HST': 244, 'GDDY': 245, 'GS': 246, 'GM': 247, 'ITW': 248, 'IBM': 249, 'ISRG': 250, 'LKQ': 251, 'KVUE': 252, 'MPC': 253, 'INVH': 254, 'KEYS': 255, 'MKTX': 256, 'LYV': 257, 'LVS': 258, 'LRCX': 259, 'JKHY': 260, 'INTU': 261, 'MAR': 262, 'J': 263, 'LDOS': 264, 'KLAC': 265, 'IPG': 266, 'LHX': 267, 'JPM': 268, 'KDP': 269, 'KMB': 270, 'L': 271, 'MTB': 272, 'IVZ': 273, 'JCI': 274, 'LEN': 275, 'LMT': 276, 'IFF': 277, 'JBHT': 278, 'LOW': 279, 'KEY': 280, 'IQV': 281, 'IP': 282, 'K': 283, 'KMI': 284, 'KKR': 285, 'IRM': 286, 'JNJ': 287, 'LW': 288, 'KR': 289, 'LYB': 290, 'LULU': 291, 'LIN': 292, 'KHC': 293, 'KIM': 294, 'JBL': 295, 'ICE': 296, 'LH': 297, 'LII': 298, 'LLY': 299, 'MTD': 300, 'MOH': 301, 'MRNA': 302, 'NFLX': 303, 'NDAQ': 304, 'NWS': 305, 'NWSA': 306, 'NVR': 307, 'MA': 308, 'MTCH': 309, 'NDSN': 310, 'MS': 311, 'ORLY': 312, 'MSFT': 313, 'NTAP': 314, 'MCK': 315, 'MOS': 316, 'NTRS': 317, 'NOC': 318, 'NEE': 319, 'NVDA': 320, 'MKC': 321, 'NI': 322, 'MLM': 323, 'NKE': 324, 'MU': 325, 'NSC': 326, 'NUE': 327, 'TAP': 328, 'MET': 329, 'MMC': 330, 'MRK': 331, 'META': 332, 'NRG': 333, 'MCO': 334, 'MAS': 335, 'MDLZ': 336, 'NXPI': 337, 'MSCI': 338, 'MGM': 339, 'NCLH': 340, 'MPWR': 341, 'MHK': 342, 'MNST': 343, 'MSI': 344, 'MDT': 345, 'MCHP': 346, 'NEM': 347, 'MAA': 348, 'MCD': 349, 'PLTR': 350, 'PSKY': 351, 'RSG': 352, 'OTIS': 353, 'PFG': 354, 'PAYC': 355, 'PWR': 356, 'PCG': 357, 'REGN': 358, 'PNW': 359, 'PKG': 360, 'PRU': 361, 'PNR': 362, 'REG': 363, 'PPL': 364, 'OMC': 365, 'RMD': 366, 'PEG': 367, 'ORCL': 368, 'RTX': 369, 'OXY': 370, 'OKE': 371, 'RF': 372, 'PAYX': 373, 'PGR': 374, 'PNC': 375, 'PEP': 376, 'RJF': 377, 'QCOM': 378, 'PCAR': 379, 'PSA': 380, 'PSX': 381, 'POOL': 382, 'PTC': 383, 'ON': 384, 'PM': 385, 'PANW': 386, 'RL': 387, 'DGX': 388, 'PH': 389, 'O': 390, 'PPG': 391, 'PYPL': 392, 'ROK': 393, 'PLD': 394, 'ODFL': 395, 'PG': 396, 'PHM': 397, 'RVTY': 398, 'PFE': 399, 'SNPS': 400, 'NOW': 401, 'TDY': 402, 'SJM': 403, 'TRGP': 404, 'SBAC': 405, 'TMUS': 406, 'SMCI': 407, 'TER': 408, 'SOLV': 409, 'SW': 410, 'SHW': 411, 'SBUX': 412, 'SYK': 413, 'RCL': 414, 'ROST': 415, 'STX': 416, 'STT': 417, 'ROL': 418, 'TT': 419, 'STLD': 420, 'TROW': 421, 'TTWO': 422, 'SPGI': 423, 'TMO': 424, 'LUV': 425, 'ROP': 426, 'SLB': 427, 'TGT': 428, 'SPG': 429, 'SYY': 430, 'SWK': 431, 'SO': 432, 'TKO': 433, 'CRM': 434, 'SNA': 435, 'SYF': 436, 'SWKS': 437, 'TTD': 438, 'TPL': 439, 'SRE': 440, 'TPR': 441, 'TEL': 442, 'TSLA': 443, 'TSCO': 444, 'TDG': 445, 'STE': 446, 'TJX': 447, 'TXN': 448, 'TXT': 449, 'TRMB': 450, 'VLTO': 451, 'UBER': 452, 'WDC': 453, 'ULTA': 454, 'WDAY': 455, 'USB': 456, 'UNH': 457, 'XYL': 458, 'VZ': 459, 'UNP': 460, 'WRB': 461, 'WELL': 462, 'UHS': 463, 'VRTX': 464, 'WY': 465, 'VTRS': 466, 'TRV': 467, 'V': 468, 'TFC': 469, 'URI': 470, 'WEC': 471, 'VRSN': 472, 'XEL': 473, 'WM': 474, 'WAB': 475, 'WST': 476, 'DIS': 477, 'VMC': 478, 'TSN': 479, 'WFC': 480, 'WMT': 481, 'UPS': 482, 'WMB': 483, 'WBD': 484, 'UAL': 485, 'UDR': 486, 'VRSK': 487, 'WAT': 488, 'VICI': 489, 'VLO': 490, 'YUM': 491, 'WBA': 492, 'WSM': 493, 'TYL': 494, 'VST': 495, 'WYNN': 496, 'VTR': 497, 'WTW': 498, 'GWW': 499, 'ZTS': 500, 'ZBH': 501, 'ZBRA': 502}), _dates=array(['2020-01-02T00:00:00.000000000', '2020-01-03T00:00:00.000000000',\n",
      "       '2020-01-06T00:00:00.000000000', '2020-01-07T00:00:00.000000000',\n",
      "       '2020-01-08T00:00:00.000000000'], dtype='datetime64[ns]'))\n"
     ]
    }
   ],
   "source": [
    "print(past_cost_prices.window(5))"
   ]
  },
  {
   "cell_type": "code",
   "execution_count": 11,
   "metadata": {},
   "outputs": [
    {
     "name": "stdout",
     "output_type": "stream",
     "text": [
      "PolarsPastView(_inner_df=shape: (503, 5)\n",
      "┌────────────┬────────────┬────────────┬────────────┬────────────┐\n",
      "│ period_2   ┆ period_3   ┆ period_4   ┆ period_5   ┆ period_6   │\n",
      "│ ---        ┆ ---        ┆ ---        ┆ ---        ┆ ---        │\n",
      "│ f64        ┆ f64        ┆ f64        ┆ f64        ┆ f64        │\n",
      "╞════════════╪════════════╪════════════╪════════════╪════════════╡\n",
      "│ 285.880005 ┆ 283.059998 ┆ 286.0      ┆ 296.540009 ┆ 293.329987 │\n",
      "│ 10.42      ┆ 10.33      ┆ 10.37      ┆ 10.4       ┆ 10.45      │\n",
      "│ 47.580002  ┆ 47.630001  ┆ 48.650002  ┆ 49.810001  ┆ 49.869999  │\n",
      "│ 87.550003  ┆ 90.199997  ┆ 91.400002  ┆ 93.190002  ┆ 93.529999  │\n",
      "│ 92.349998  ┆ 91.190002  ┆ 93.089996  ┆ 91.730003  ┆ 89.510002  │\n",
      "│ …          ┆ …          ┆ …          ┆ …          ┆ …          │\n",
      "│ 204.580002 ┆ 204.160004 ┆ 204.389999 ┆ 205.0      ┆ 205.0      │\n",
      "│ 337.48999  ┆ 337.839996 ┆ 341.410004 ┆ 343.170013 ┆ 341.309998 │\n",
      "│ 133.130005 ┆ 133.580002 ┆ 133.289993 ┆ 135.059998 ┆ 135.570007 │\n",
      "│ 143.640778 ┆ 143.514557 ┆ 145.233017 ┆ 144.271851 ┆ 145.621353 │\n",
      "│ 258.01001  ┆ 256.470001 ┆ 247.639999 ┆ 246.5      ┆ 246.270004 │\n",
      "└────────────┴────────────┴────────────┴────────────┴────────────┘, _axis=Axis(names=('ALGN', 'AMCR', 'APO', 'AKAM', 'APTV', 'AMD', 'ADBE', 'AMZN', 'ARE', 'AMAT', 'AMT', 'ABBV', 'GOOGL', 'AES', 'ATO', 'AEP', 'MO', 'AIG', 'AFL', 'AWK', 'GOOG', 'AXP', 'ADM', 'AME', 'ALB', 'ALL', 'AJG', 'AAPL', 'A', 'APH', 'APA', 'APD', 'AON', 'AOS', 'AIZ', 'ACGL', 'AEE', 'T', 'AMP', 'ABNB', 'ADP', 'ADSK', 'AMGN', 'ABT', 'ANET', 'ALLE', 'LNT', 'ADI', 'ACN', 'MMM', 'BSX', 'CRL', 'CNC', 'CBRE', 'BX', 'CDNS', 'BIIB', 'AZO', 'BLK', 'XYZ', 'BR', 'KMX', 'CHRW', 'BG', 'COF', 'BAC', 'AVB', 'CHTR', 'BRO', 'CPT', 'CDW', 'SCHW', 'AVGO', 'BMY', 'CAH', 'BKR', 'BAX', 'BXP', 'BALL', 'BA', 'BLDR', 'CPB', 'CBOE', 'CAT', 'BKNG', 'TECH', 'BRK-B', 'COR', 'BBY', 'CZR', 'CARR', 'CVX', 'CF', 'AXON', 'BDX', 'CCL', 'BF-B', 'CNP', 'AVY', 'BK', 'DVA', 'DECK', 'CEG', 'DDOG', 'CTSH', 'DAY', 'CMG', 'CPRT', 'CSGP', 'CRWD', 'CSCO', 'COIN', 'FANG', 'CI', 'DE', 'GLW', 'COST', 'CFG', 'CTRA', 'CLX', 'COO', 'DHR', 'CTAS', 'CVS', 'CMI', 'C', 'CME', 'KO', 'CL', 'DAL', 'CSX', 'COP', 'CAG', 'CCI', 'CPAY', 'DELL', 'DLR', 'DLTR', 'DXCM', 'DRI', 'ED', 'STZ', 'CINF', 'DG', 'CHD', 'CMCSA', 'CMS', 'CB', 'DVN', 'CTVA', 'DOW', 'EW', 'EA', 'FSLR', 'EXPE', 'EXE', 'EXPD', 'FI', 'DUK', 'EMN', 'FITB', 'EOG', 'EQT', 'ELV', 'FDS', 'DPZ', 'EQIX', 'DHI', 'ERIE', 'FE', 'F', 'EMR', 'EXR', 'EBAY', 'EQR', 'ETN', 'EIX', 'DOV', 'ES', 'EVRG', 'ECL', 'EXC', 'ENPH', 'DD', 'DTE', 'FICO', 'DASH', 'EG', 'FAST', 'FFIV', 'D', 'ESS', 'FRT', 'EPAM', 'EFX', 'FIS', 'FDX', 'EL', 'ETR', 'XOM', 'PODD', 'GEV', 'IDXX', 'GEHC', 'FCX', 'HOLX', 'HLT', 'FOXA', 'INCY', 'FOX', 'IR', 'HII', 'HD', 'IT', 'HIG', 'HBAN', 'HAL', 'GRMN', 'HSY', 'HUBB', 'GPC', 'HWM', 'HAS', 'DOC', 'FTV', 'GL', 'INTC', 'HRL', 'HPQ', 'BEN', 'GD', 'GE', 'HCA', 'GIS', 'GNRC', 'GILD', 'HPE', 'FTNT', 'GEN', 'HSIC', 'IEX', 'HUM', 'HON', 'GPN', 'HST', 'GDDY', 'GS', 'GM', 'ITW', 'IBM', 'ISRG', 'LKQ', 'KVUE', 'MPC', 'INVH', 'KEYS', 'MKTX', 'LYV', 'LVS', 'LRCX', 'JKHY', 'INTU', 'MAR', 'J', 'LDOS', 'KLAC', 'IPG', 'LHX', 'JPM', 'KDP', 'KMB', 'L', 'MTB', 'IVZ', 'JCI', 'LEN', 'LMT', 'IFF', 'JBHT', 'LOW', 'KEY', 'IQV', 'IP', 'K', 'KMI', 'KKR', 'IRM', 'JNJ', 'LW', 'KR', 'LYB', 'LULU', 'LIN', 'KHC', 'KIM', 'JBL', 'ICE', 'LH', 'LII', 'LLY', 'MTD', 'MOH', 'MRNA', 'NFLX', 'NDAQ', 'NWS', 'NWSA', 'NVR', 'MA', 'MTCH', 'NDSN', 'MS', 'ORLY', 'MSFT', 'NTAP', 'MCK', 'MOS', 'NTRS', 'NOC', 'NEE', 'NVDA', 'MKC', 'NI', 'MLM', 'NKE', 'MU', 'NSC', 'NUE', 'TAP', 'MET', 'MMC', 'MRK', 'META', 'NRG', 'MCO', 'MAS', 'MDLZ', 'NXPI', 'MSCI', 'MGM', 'NCLH', 'MPWR', 'MHK', 'MNST', 'MSI', 'MDT', 'MCHP', 'NEM', 'MAA', 'MCD', 'PLTR', 'PSKY', 'RSG', 'OTIS', 'PFG', 'PAYC', 'PWR', 'PCG', 'REGN', 'PNW', 'PKG', 'PRU', 'PNR', 'REG', 'PPL', 'OMC', 'RMD', 'PEG', 'ORCL', 'RTX', 'OXY', 'OKE', 'RF', 'PAYX', 'PGR', 'PNC', 'PEP', 'RJF', 'QCOM', 'PCAR', 'PSA', 'PSX', 'POOL', 'PTC', 'ON', 'PM', 'PANW', 'RL', 'DGX', 'PH', 'O', 'PPG', 'PYPL', 'ROK', 'PLD', 'ODFL', 'PG', 'PHM', 'RVTY', 'PFE', 'SNPS', 'NOW', 'TDY', 'SJM', 'TRGP', 'SBAC', 'TMUS', 'SMCI', 'TER', 'SOLV', 'SW', 'SHW', 'SBUX', 'SYK', 'RCL', 'ROST', 'STX', 'STT', 'ROL', 'TT', 'STLD', 'TROW', 'TTWO', 'SPGI', 'TMO', 'LUV', 'ROP', 'SLB', 'TGT', 'SPG', 'SYY', 'SWK', 'SO', 'TKO', 'CRM', 'SNA', 'SYF', 'SWKS', 'TTD', 'TPL', 'SRE', 'TPR', 'TEL', 'TSLA', 'TSCO', 'TDG', 'STE', 'TJX', 'TXN', 'TXT', 'TRMB', 'VLTO', 'UBER', 'WDC', 'ULTA', 'WDAY', 'USB', 'UNH', 'XYL', 'VZ', 'UNP', 'WRB', 'WELL', 'UHS', 'VRTX', 'WY', 'VTRS', 'TRV', 'V', 'TFC', 'URI', 'WEC', 'VRSN', 'XEL', 'WM', 'WAB', 'WST', 'DIS', 'VMC', 'TSN', 'WFC', 'WMT', 'UPS', 'WMB', 'WBD', 'UAL', 'UDR', 'VRSK', 'WAT', 'VICI', 'VLO', 'YUM', 'WBA', 'WSM', 'TYL', 'VST', 'WYNN', 'VTR', 'WTW', 'GWW', 'ZTS', 'ZBH', 'ZBRA'), pos={'ALGN': 0, 'AMCR': 1, 'APO': 2, 'AKAM': 3, 'APTV': 4, 'AMD': 5, 'ADBE': 6, 'AMZN': 7, 'ARE': 8, 'AMAT': 9, 'AMT': 10, 'ABBV': 11, 'GOOGL': 12, 'AES': 13, 'ATO': 14, 'AEP': 15, 'MO': 16, 'AIG': 17, 'AFL': 18, 'AWK': 19, 'GOOG': 20, 'AXP': 21, 'ADM': 22, 'AME': 23, 'ALB': 24, 'ALL': 25, 'AJG': 26, 'AAPL': 27, 'A': 28, 'APH': 29, 'APA': 30, 'APD': 31, 'AON': 32, 'AOS': 33, 'AIZ': 34, 'ACGL': 35, 'AEE': 36, 'T': 37, 'AMP': 38, 'ABNB': 39, 'ADP': 40, 'ADSK': 41, 'AMGN': 42, 'ABT': 43, 'ANET': 44, 'ALLE': 45, 'LNT': 46, 'ADI': 47, 'ACN': 48, 'MMM': 49, 'BSX': 50, 'CRL': 51, 'CNC': 52, 'CBRE': 53, 'BX': 54, 'CDNS': 55, 'BIIB': 56, 'AZO': 57, 'BLK': 58, 'XYZ': 59, 'BR': 60, 'KMX': 61, 'CHRW': 62, 'BG': 63, 'COF': 64, 'BAC': 65, 'AVB': 66, 'CHTR': 67, 'BRO': 68, 'CPT': 69, 'CDW': 70, 'SCHW': 71, 'AVGO': 72, 'BMY': 73, 'CAH': 74, 'BKR': 75, 'BAX': 76, 'BXP': 77, 'BALL': 78, 'BA': 79, 'BLDR': 80, 'CPB': 81, 'CBOE': 82, 'CAT': 83, 'BKNG': 84, 'TECH': 85, 'BRK-B': 86, 'COR': 87, 'BBY': 88, 'CZR': 89, 'CARR': 90, 'CVX': 91, 'CF': 92, 'AXON': 93, 'BDX': 94, 'CCL': 95, 'BF-B': 96, 'CNP': 97, 'AVY': 98, 'BK': 99, 'DVA': 100, 'DECK': 101, 'CEG': 102, 'DDOG': 103, 'CTSH': 104, 'DAY': 105, 'CMG': 106, 'CPRT': 107, 'CSGP': 108, 'CRWD': 109, 'CSCO': 110, 'COIN': 111, 'FANG': 112, 'CI': 113, 'DE': 114, 'GLW': 115, 'COST': 116, 'CFG': 117, 'CTRA': 118, 'CLX': 119, 'COO': 120, 'DHR': 121, 'CTAS': 122, 'CVS': 123, 'CMI': 124, 'C': 125, 'CME': 126, 'KO': 127, 'CL': 128, 'DAL': 129, 'CSX': 130, 'COP': 131, 'CAG': 132, 'CCI': 133, 'CPAY': 134, 'DELL': 135, 'DLR': 136, 'DLTR': 137, 'DXCM': 138, 'DRI': 139, 'ED': 140, 'STZ': 141, 'CINF': 142, 'DG': 143, 'CHD': 144, 'CMCSA': 145, 'CMS': 146, 'CB': 147, 'DVN': 148, 'CTVA': 149, 'DOW': 150, 'EW': 151, 'EA': 152, 'FSLR': 153, 'EXPE': 154, 'EXE': 155, 'EXPD': 156, 'FI': 157, 'DUK': 158, 'EMN': 159, 'FITB': 160, 'EOG': 161, 'EQT': 162, 'ELV': 163, 'FDS': 164, 'DPZ': 165, 'EQIX': 166, 'DHI': 167, 'ERIE': 168, 'FE': 169, 'F': 170, 'EMR': 171, 'EXR': 172, 'EBAY': 173, 'EQR': 174, 'ETN': 175, 'EIX': 176, 'DOV': 177, 'ES': 178, 'EVRG': 179, 'ECL': 180, 'EXC': 181, 'ENPH': 182, 'DD': 183, 'DTE': 184, 'FICO': 185, 'DASH': 186, 'EG': 187, 'FAST': 188, 'FFIV': 189, 'D': 190, 'ESS': 191, 'FRT': 192, 'EPAM': 193, 'EFX': 194, 'FIS': 195, 'FDX': 196, 'EL': 197, 'ETR': 198, 'XOM': 199, 'PODD': 200, 'GEV': 201, 'IDXX': 202, 'GEHC': 203, 'FCX': 204, 'HOLX': 205, 'HLT': 206, 'FOXA': 207, 'INCY': 208, 'FOX': 209, 'IR': 210, 'HII': 211, 'HD': 212, 'IT': 213, 'HIG': 214, 'HBAN': 215, 'HAL': 216, 'GRMN': 217, 'HSY': 218, 'HUBB': 219, 'GPC': 220, 'HWM': 221, 'HAS': 222, 'DOC': 223, 'FTV': 224, 'GL': 225, 'INTC': 226, 'HRL': 227, 'HPQ': 228, 'BEN': 229, 'GD': 230, 'GE': 231, 'HCA': 232, 'GIS': 233, 'GNRC': 234, 'GILD': 235, 'HPE': 236, 'FTNT': 237, 'GEN': 238, 'HSIC': 239, 'IEX': 240, 'HUM': 241, 'HON': 242, 'GPN': 243, 'HST': 244, 'GDDY': 245, 'GS': 246, 'GM': 247, 'ITW': 248, 'IBM': 249, 'ISRG': 250, 'LKQ': 251, 'KVUE': 252, 'MPC': 253, 'INVH': 254, 'KEYS': 255, 'MKTX': 256, 'LYV': 257, 'LVS': 258, 'LRCX': 259, 'JKHY': 260, 'INTU': 261, 'MAR': 262, 'J': 263, 'LDOS': 264, 'KLAC': 265, 'IPG': 266, 'LHX': 267, 'JPM': 268, 'KDP': 269, 'KMB': 270, 'L': 271, 'MTB': 272, 'IVZ': 273, 'JCI': 274, 'LEN': 275, 'LMT': 276, 'IFF': 277, 'JBHT': 278, 'LOW': 279, 'KEY': 280, 'IQV': 281, 'IP': 282, 'K': 283, 'KMI': 284, 'KKR': 285, 'IRM': 286, 'JNJ': 287, 'LW': 288, 'KR': 289, 'LYB': 290, 'LULU': 291, 'LIN': 292, 'KHC': 293, 'KIM': 294, 'JBL': 295, 'ICE': 296, 'LH': 297, 'LII': 298, 'LLY': 299, 'MTD': 300, 'MOH': 301, 'MRNA': 302, 'NFLX': 303, 'NDAQ': 304, 'NWS': 305, 'NWSA': 306, 'NVR': 307, 'MA': 308, 'MTCH': 309, 'NDSN': 310, 'MS': 311, 'ORLY': 312, 'MSFT': 313, 'NTAP': 314, 'MCK': 315, 'MOS': 316, 'NTRS': 317, 'NOC': 318, 'NEE': 319, 'NVDA': 320, 'MKC': 321, 'NI': 322, 'MLM': 323, 'NKE': 324, 'MU': 325, 'NSC': 326, 'NUE': 327, 'TAP': 328, 'MET': 329, 'MMC': 330, 'MRK': 331, 'META': 332, 'NRG': 333, 'MCO': 334, 'MAS': 335, 'MDLZ': 336, 'NXPI': 337, 'MSCI': 338, 'MGM': 339, 'NCLH': 340, 'MPWR': 341, 'MHK': 342, 'MNST': 343, 'MSI': 344, 'MDT': 345, 'MCHP': 346, 'NEM': 347, 'MAA': 348, 'MCD': 349, 'PLTR': 350, 'PSKY': 351, 'RSG': 352, 'OTIS': 353, 'PFG': 354, 'PAYC': 355, 'PWR': 356, 'PCG': 357, 'REGN': 358, 'PNW': 359, 'PKG': 360, 'PRU': 361, 'PNR': 362, 'REG': 363, 'PPL': 364, 'OMC': 365, 'RMD': 366, 'PEG': 367, 'ORCL': 368, 'RTX': 369, 'OXY': 370, 'OKE': 371, 'RF': 372, 'PAYX': 373, 'PGR': 374, 'PNC': 375, 'PEP': 376, 'RJF': 377, 'QCOM': 378, 'PCAR': 379, 'PSA': 380, 'PSX': 381, 'POOL': 382, 'PTC': 383, 'ON': 384, 'PM': 385, 'PANW': 386, 'RL': 387, 'DGX': 388, 'PH': 389, 'O': 390, 'PPG': 391, 'PYPL': 392, 'ROK': 393, 'PLD': 394, 'ODFL': 395, 'PG': 396, 'PHM': 397, 'RVTY': 398, 'PFE': 399, 'SNPS': 400, 'NOW': 401, 'TDY': 402, 'SJM': 403, 'TRGP': 404, 'SBAC': 405, 'TMUS': 406, 'SMCI': 407, 'TER': 408, 'SOLV': 409, 'SW': 410, 'SHW': 411, 'SBUX': 412, 'SYK': 413, 'RCL': 414, 'ROST': 415, 'STX': 416, 'STT': 417, 'ROL': 418, 'TT': 419, 'STLD': 420, 'TROW': 421, 'TTWO': 422, 'SPGI': 423, 'TMO': 424, 'LUV': 425, 'ROP': 426, 'SLB': 427, 'TGT': 428, 'SPG': 429, 'SYY': 430, 'SWK': 431, 'SO': 432, 'TKO': 433, 'CRM': 434, 'SNA': 435, 'SYF': 436, 'SWKS': 437, 'TTD': 438, 'TPL': 439, 'SRE': 440, 'TPR': 441, 'TEL': 442, 'TSLA': 443, 'TSCO': 444, 'TDG': 445, 'STE': 446, 'TJX': 447, 'TXN': 448, 'TXT': 449, 'TRMB': 450, 'VLTO': 451, 'UBER': 452, 'WDC': 453, 'ULTA': 454, 'WDAY': 455, 'USB': 456, 'UNH': 457, 'XYL': 458, 'VZ': 459, 'UNP': 460, 'WRB': 461, 'WELL': 462, 'UHS': 463, 'VRTX': 464, 'WY': 465, 'VTRS': 466, 'TRV': 467, 'V': 468, 'TFC': 469, 'URI': 470, 'WEC': 471, 'VRSN': 472, 'XEL': 473, 'WM': 474, 'WAB': 475, 'WST': 476, 'DIS': 477, 'VMC': 478, 'TSN': 479, 'WFC': 480, 'WMT': 481, 'UPS': 482, 'WMB': 483, 'WBD': 484, 'UAL': 485, 'UDR': 486, 'VRSK': 487, 'WAT': 488, 'VICI': 489, 'VLO': 490, 'YUM': 491, 'WBA': 492, 'WSM': 493, 'TYL': 494, 'VST': 495, 'WYNN': 496, 'VTR': 497, 'WTW': 498, 'GWW': 499, 'ZTS': 500, 'ZBH': 501, 'ZBRA': 502}), _dates=array(['2020-01-06T00:00:00.000000000', '2020-01-07T00:00:00.000000000',\n",
      "       '2020-01-08T00:00:00.000000000', '2020-01-09T00:00:00.000000000',\n",
      "       '2020-01-10T00:00:00.000000000'], dtype='datetime64[ns]'))\n"
     ]
    }
   ],
   "source": [
    "print(past_cost_prices.window(5, stagger=2))"
   ]
  },
  {
   "cell_type": "code",
   "execution_count": null,
   "metadata": {},
   "outputs": [],
   "source": []
  }
 ],
 "metadata": {
  "kernelspec": {
   "display_name": "Python 3 (ipykernel)",
   "language": "python",
   "name": "python3"
  },
  "language_info": {
   "codemirror_mode": {
    "name": "ipython",
    "version": 3
   },
   "file_extension": ".py",
   "mimetype": "text/x-python",
   "name": "python",
   "nbconvert_exporter": "python",
   "pygments_lexer": "ipython3",
   "version": "3.13.4"
  }
 },
 "nbformat": 4,
 "nbformat_minor": 2
}
