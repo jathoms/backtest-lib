{
 "cells": [
  {
   "cell_type": "code",
   "execution_count": null,
   "metadata": {},
   "outputs": [],
   "source": [
    "import pickle as pkl\n",
    "import pandas as pd\n",
    "import yfinance as yf\n",
    "import time\n",
    "\n",
    "sp500_url = \"https://en.wikipedia.org/wiki/List_of_S%26P_500_companies\"\n",
    "table = pd.read_html(sp500_url)\n",
    "sp500_df = table[0]  # First table is the constituents list\n",
    "tickers = sp500_df[\"Symbol\"].tolist()\n",
    "\n",
    "# Yahoo uses BRK-B instead of BRK.B, same for BF-B -> BF.B\n",
    "tickers = [t.replace(\".\", \"-\") for t in tickers]\n",
    "\n",
    "\n",
    "def fetch_history(tickers, start=\"2020-01-01\", end=None, interval=\"1d\"):\n",
    "    all_data = []\n",
    "    chunk_size = 50  # <= 100 is safer\n",
    "\n",
    "    for i in range(0, len(tickers), chunk_size):\n",
    "        batch = tickers[i : i + chunk_size]\n",
    "        print(f\"Fetching {batch[0]}...{batch[-1]}\")\n",
    "\n",
    "        df = yf.download(\n",
    "            tickers=batch,\n",
    "            start=start,\n",
    "            end=end,\n",
    "            interval=interval,\n",
    "            group_by=\"ticker\",\n",
    "            auto_adjust=False,\n",
    "            threads=True,\n",
    "        )\n",
    "        all_data.append(df)\n",
    "\n",
    "        time.sleep(1.5)  # avoid being throttled\n",
    "\n",
    "    return all_data\n",
    "\n",
    "\n",
    "history_batches = fetch_history(tickers, start=\"2022-01-01\")\n",
    "pkl.dump(history_batches, open(\"./sp500.pkl\", \"wb\"))\n",
    "# history_batches = pkl.load(open(\"./sp500.pkl\", \"rb\"))\n",
    "\n",
    "history = pd.concat(history_batches, axis=1)\n",
    "\n",
    "close_df = history.xs(\"Close\", axis=1, level=1)\n",
    "\n",
    "open_df = history.xs(\"Open\", axis=1, level=1)\n",
    "high_df = history.xs(\"High\", axis=1, level=1)\n",
    "low_df = history.xs(\"Low\", axis=1, level=1)\n",
    "vol_df = history.xs(\"Volume\", axis=1, level=1)\n",
    "\n",
    "pkl.dump(close_df, open(\"./sp500_close.pkl\", \"wb\"))"
   ]
  },
  {
   "cell_type": "code",
   "execution_count": 10,
   "metadata": {},
   "outputs": [],
   "source": [
    "close_df = pkl.load(open(\"./sp500_close.pkl\", \"rb\"))\n",
    "dates = close_df.index.values"
   ]
  },
  {
   "cell_type": "code",
   "execution_count": 11,
   "metadata": {},
   "outputs": [],
   "source": [
    "# Convert to polars for your pipeline\n",
    "import polars as pl\n",
    "from backtest_lib.market.polars_impl import Axis\n",
    "\n",
    "close_pl = pl.from_pandas(close_df)\n",
    "securities = close_pl.columns\n",
    "axis = Axis.from_names(securities)"
   ]
  },
  {
   "cell_type": "code",
   "execution_count": null,
   "metadata": {},
   "outputs": [],
   "source": [
    "pastview = close_pl.transpose()\n",
    "\n",
    "pastview = pastview.rename(\n",
    "    {orig: orig.replace(\"column_\", \"period_\") for orig in pastview.columns}\n",
    ")\n",
    "\n",
    "window_size = 4\n",
    "stagger = 0\n",
    "\n",
    "pastview.select(pastview.columns[stagger : window_size + stagger])"
   ]
  },
  {
   "cell_type": "code",
   "execution_count": null,
   "metadata": {},
   "outputs": [],
   "source": [
    "# now with the lib\n",
    "from backtest_lib.market.polars_impl import PolarsPastView\n",
    "from backtest_lib.market import PastView\n",
    "\n",
    "close_prices_df = close_pl.with_columns(pl.Series(\"date\", dates))\n",
    "past_cost_prices = PolarsPastView.from_data_frame(close_prices_df)\n",
    "print(isinstance(past_cost_prices, PastView))\n",
    "print(past_cost_prices.by_period[-1][\"AAPL\"])"
   ]
  },
  {
   "cell_type": "code",
   "execution_count": null,
   "metadata": {},
   "outputs": [],
   "source": [
    "print(past_cost_prices.by_security[\"AAPL\"])"
   ]
  },
  {
   "cell_type": "code",
   "execution_count": null,
   "metadata": {},
   "outputs": [],
   "source": [
    "from backtest_lib.market import BySecurity, ByPeriod\n",
    "\n",
    "print(\n",
    "    isinstance(past_cost_prices.by_security, BySecurity),\n",
    "    isinstance(past_cost_prices.by_period, ByPeriod),\n",
    ")"
   ]
  },
  {
   "cell_type": "code",
   "execution_count": null,
   "metadata": {},
   "outputs": [],
   "source": [
    "past_cost_prices.by_security[\"AAPL\"].as_series()"
   ]
  },
  {
   "cell_type": "code",
   "execution_count": null,
   "metadata": {},
   "outputs": [],
   "source": []
  }
 ],
 "metadata": {
  "kernelspec": {
   "display_name": ".venv",
   "language": "python",
   "name": "python3"
  },
  "language_info": {
   "codemirror_mode": {
    "name": "ipython",
    "version": 3
   },
   "file_extension": ".py",
   "mimetype": "text/x-python",
   "name": "python",
   "nbconvert_exporter": "python",
   "pygments_lexer": "ipython3",
   "version": "3.13.4"
  }
 },
 "nbformat": 4,
 "nbformat_minor": 2
}
