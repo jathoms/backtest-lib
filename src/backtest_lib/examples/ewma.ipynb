{
 "cells": [
  {
   "cell_type": "code",
   "execution_count": null,
   "metadata": {},
   "outputs": [],
   "source": [
    "import polars as pl\n",
    "import pickle as pkl\n",
    "from backtest_lib.market.polars_impl import PolarsPastView\n",
    "\n",
    "close_df = pkl.load(open(\"./sp500_close.pkl\", \"rb\"))\n",
    "close_df = close_df.dropna(axis=1, how=\"any\")\n",
    "dates = close_df.index.values\n",
    "\n",
    "close_pl = pl.from_pandas(close_df)\n",
    "securities = close_pl.columns\n",
    "close_prices_df = close_pl.with_columns(pl.Series(\"date\", dates))\n",
    "past_cost_prices = PolarsPastView.from_data_frame(close_prices_df)\n",
    "\n",
    "past_cost_prices"
   ]
  },
  {
   "cell_type": "code",
   "execution_count": null,
   "metadata": {},
   "outputs": [],
   "source": [
    "from backtest_lib.market.polars_impl import PolarsPastView\n",
    "from backtest_lib.market import MarketView, PastUniversePrices\n",
    "\n",
    "df = past_cost_prices.by_security.as_df()\n",
    "cols = df.columns\n",
    "ewma = (\n",
    "    df.with_columns(pl.col(col).ewm_mean(com=2).alias(f\"{col}_EWM\") for col in cols)\n",
    "    .with_columns((pl.col(col) / pl.col(f\"{col}_EWM\")) for col in cols)\n",
    "    .select(cols)\n",
    "    .with_columns(date=dates)\n",
    ")\n",
    "\n",
    "ewma_past_view = PolarsPastView.from_data_frame(ewma)\n",
    "\n",
    "market_view = MarketView(\n",
    "    prices=PastUniversePrices(close=past_cost_prices),\n",
    "    signals={\"ewma_ratio\": ewma_past_view},\n",
    "    periods=dates,\n",
    ")\n",
    "\n",
    "market_view.signals[\"ewma_ratio\"].by_period[-1]"
   ]
  },
  {
   "cell_type": "code",
   "execution_count": null,
   "metadata": {},
   "outputs": [],
   "source": [
    "from backtest_lib.portfolio import WeightedPortfolio\n",
    "from backtest_lib.strategy import Decision\n",
    "\n",
    "\n",
    "def ewma_strategy(universe, current_portfolio, market, ctx):\n",
    "    latest_ewma_ratio = (\n",
    "        market.signals[\"ewma_ratio\"].by_security[list(universe)].by_period[-1]\n",
    "    )\n",
    "\n",
    "    avg_ewma_ratio = latest_ewma_ratio.mean()\n",
    "    norm_ewma_ratio = latest_ewma_ratio / avg_ewma_ratio\n",
    "    weights = norm_ewma_ratio / len(norm_ewma_ratio)\n",
    "    return Decision(target=WeightedPortfolio(cash=0, holdings=weights))\n",
    "\n",
    "\n",
    "decision = ewma_strategy([\"AAPL\", \"MSFT\"], None, market_view, None)\n",
    "decision"
   ]
  },
  {
   "cell_type": "code",
   "execution_count": null,
   "metadata": {},
   "outputs": [],
   "source": [
    "from backtest_lib.backtest import Backtest\n",
    "from backtest_lib.market.polars_impl import SeriesUniverseMapping\n",
    "import polars as pl\n",
    "\n",
    "universe = tuple(past_cost_prices.by_security.as_df().columns)\n",
    "pf = WeightedPortfolio(\n",
    "    cash=0,\n",
    "    holdings=SeriesUniverseMapping.from_names_and_data(\n",
    "        universe, pl.Series([1 / len(universe)] * len(universe))\n",
    "    ),\n",
    ")\n",
    "backtest = Backtest(\n",
    "    universe=universe,\n",
    "    strategy=ewma_strategy,\n",
    "    market_view=market_view,\n",
    "    initial_portfolio=pf,\n",
    ")\n",
    "\n",
    "results = backtest.run()\n",
    "print(f\"total return: {(results.total_growth - 1) * 100:.2f}%\")"
   ]
  },
  {
   "cell_type": "code",
   "execution_count": null,
   "metadata": {},
   "outputs": [],
   "source": [
    "def index_strategy(universe, current_portfolio, market, ctx) -> Decision:\n",
    "    return Decision(pf)\n",
    "\n",
    "\n",
    "benchmark_backtest = Backtest(\n",
    "    universe=universe,\n",
    "    strategy=index_strategy,\n",
    "    market_view=market_view,\n",
    "    initial_portfolio=pf,\n",
    ")\n",
    "\n",
    "results = benchmark_backtest.run()\n",
    "print(f\"total return: {(results.total_growth - 1) * 100:.2f}%\")"
   ]
  },
  {
   "cell_type": "code",
   "execution_count": null,
   "metadata": {},
   "outputs": [],
   "source": [
    "import polars as pl\n",
    "\n",
    "first_prices = past_cost_prices.by_period[0]\n",
    "last_prices = past_cost_prices.by_period[-1]\n",
    "\n",
    "avg_first_change = (\n",
    "    past_cost_prices.by_period[1] / past_cost_prices.by_period[0]\n",
    ").mean()\n",
    "\n",
    "print(\"avg_first_change:\", avg_first_change)\n",
    "\n",
    "(last_prices / first_prices).mean()"
   ]
  },
  {
   "cell_type": "code",
   "execution_count": null,
   "metadata": {},
   "outputs": [],
   "source": [
    "aapl_prices = past_cost_prices.by_security[\"AAPL\"].as_series()\n",
    "\n",
    "print(aapl_prices.pct_change() + 1)\n",
    "print((aapl_prices.pct_change() + 1).cum_prod())"
   ]
  },
  {
   "cell_type": "code",
   "execution_count": null,
   "metadata": {},
   "outputs": [],
   "source": [
    "past_cost_prices.by_period[-1].mean()"
   ]
  },
  {
   "cell_type": "code",
   "execution_count": 9,
   "metadata": {},
   "outputs": [],
   "source": [
    "df = past_cost_prices.by_security.as_df()\n",
    "cols = df.columns\n",
    "ewma_weights = (\n",
    "    df.with_columns(pl.col(col).ewm_mean(com=2).alias(f\"{col}_EWM\") for col in cols)\n",
    "    .with_columns((pl.col(col) / pl.col(f\"{col}_EWM\").alias(col)) for col in cols)\n",
    "    .select(cols)\n",
    "    .with_columns(pl.mean_horizontal(cols).alias(\"avg_ratio\"))\n",
    "    .with_columns(((pl.col(col) / pl.col(\"avg_ratio\")) / len(cols)) for col in cols)\n",
    "    .select(cols)\n",
    "    .with_columns(date=dates)\n",
    ")\n",
    "\n",
    "ewma_weights_past_view = PolarsPastView.from_data_frame(ewma_weights)\n",
    "market_view = MarketView(\n",
    "    periods=dates,\n",
    "    prices=PastUniversePrices(close=past_cost_prices),\n",
    "    signals={\"precomputed_weights\": ewma_weights_past_view},\n",
    ")\n",
    "\n",
    "\n",
    "def fast_ewma_strategy(universe, current_portfolio, market, ctx) -> Decision:\n",
    "    return Decision(\n",
    "        WeightedPortfolio(\n",
    "            cash=0, holdings=market_view.signals[\"precomputed_weights\"].by_period[-1]\n",
    "        )\n",
    "    )\n",
    "\n",
    "\n",
    "fast_ewma_backtest = Backtest(\n",
    "    universe=universe,\n",
    "    strategy=fast_ewma_strategy,\n",
    "    market_view=market_view,\n",
    "    initial_portfolio=pf,\n",
    ")"
   ]
  },
  {
   "cell_type": "code",
   "execution_count": null,
   "metadata": {},
   "outputs": [],
   "source": [
    "fast_ewma_backtest.run()"
   ]
  },
  {
   "cell_type": "code",
   "execution_count": null,
   "metadata": {},
   "outputs": [],
   "source": [
    "(\n",
    "    df.with_columns(pl.col(col).ewm_mean(com=2).alias(f\"{col}_EWM\") for col in cols)\n",
    "    .with_columns((pl.col(col) / pl.col(f\"{col}_EWM\")) for col in cols)\n",
    "    .select(cols)\n",
    "    .with_columns(pl.mean_horizontal(cols).alias(\"avg_ratio\"))\n",
    "    .with_columns(((pl.col(col) / pl.col(\"avg_ratio\")) / len(cols)) for col in cols)\n",
    "    .select(cols)\n",
    "    .with_columns(date=dates)\n",
    ")"
   ]
  },
  {
   "cell_type": "code",
   "execution_count": null,
   "metadata": {},
   "outputs": [],
   "source": []
  }
 ],
 "metadata": {
  "kernelspec": {
   "display_name": ".venv",
   "language": "python",
   "name": "python3"
  },
  "language_info": {
   "codemirror_mode": {
    "name": "ipython",
    "version": 3
   },
   "file_extension": ".py",
   "mimetype": "text/x-python",
   "name": "python",
   "nbconvert_exporter": "python",
   "pygments_lexer": "ipython3",
   "version": "3.13.6"
  }
 },
 "nbformat": 4,
 "nbformat_minor": 2
}
