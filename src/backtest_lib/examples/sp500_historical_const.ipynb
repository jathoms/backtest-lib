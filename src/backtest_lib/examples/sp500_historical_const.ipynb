{
 "cells": [
  {
   "cell_type": "code",
   "execution_count": 10,
   "metadata": {},
   "outputs": [],
   "source": [
    "import pandas as pd\n",
    "import pickle as pkl\n",
    "import requests\n",
    "from io import StringIO\n",
    "\n",
    "\n",
    "url = \"https://en.wikipedia.org/wiki/List_of_S%26P_500_companies\"\n",
    "headers = {\"User-Agent\": \"Mozilla/5.0 (X11; Linux x86_64) AppleWebKit/537.36 (KHTML, like Gecko) Chrome/120.0 Safari/537.36\"}\n",
    "response = requests.get(url, headers=headers)\n",
    "response.raise_for_status()  # raise if 403 or other error\n",
    "tables = pd.read_html(StringIO(response.text))\n",
    "changes = tables[1]\n",
    "current = tables[0]\n",
    "pkl.dump(current, open(\"sp500_const.pkl\", \"wb\"))\n",
    "pkl.dump(changes, open(\"sp500_changes.pkl\", \"wb\"))\n",
    "\n",
    "# changes = pkl.load(open(\"sp500_changes.pkl\", \"rb\"))\n",
    "# current = pkl.load(open(\"sp500_const.pkl\", \"rb\"))"
   ]
  },
  {
   "cell_type": "code",
   "execution_count": 12,
   "metadata": {},
   "outputs": [],
   "source": [
    "added = changes[[\"Effective Date\", \"Added\"]]\n",
    "added.columns = added.columns.droplevel(0)\n",
    "added = added.loc[:, [\"Effective Date\", \"Ticker\"]]\n",
    "added.loc[:, \"Effective Date\"] = pd.to_datetime(added[\"Effective Date\"])\n",
    "added.dropna(inplace=True)\n",
    "\n",
    "removed = changes[[\"Effective Date\", \"Removed\"]]\n",
    "removed.columns = removed.columns.droplevel(0)\n",
    "removed = removed.loc[:, [\"Effective Date\", \"Ticker\"]]\n",
    "removed.loc[:, \"Effective Date\"] = pd.to_datetime(removed[\"Effective Date\"])\n",
    "removed.dropna(inplace=True)"
   ]
  },
  {
   "cell_type": "code",
   "execution_count": 13,
   "metadata": {},
   "outputs": [],
   "source": [
    "current_tickers = [\n",
    "    line.rstrip(\"\\n\") for line in open(\"sp500_constituents.txt\", \"r\").readlines()\n",
    "]\n",
    "all_historical_tickers = set(added[\"Ticker\"]).union(set(removed[\"Ticker\"])).union(current_tickers)"
   ]
  },
  {
   "cell_type": "code",
   "execution_count": 14,
   "metadata": {},
   "outputs": [],
   "source": [
    "dates = pd.date_range(added[\"Effective Date\"].min(), added[\"Effective Date\"].max(), freq=\"D\").to_list()\n",
    "tradeable_df = pd.DataFrame({\"date\": dates, **{ticker: [True]*len(dates) for ticker in all_historical_tickers}})"
   ]
  },
  {
   "cell_type": "code",
   "execution_count": 15,
   "metadata": {},
   "outputs": [],
   "source": [
    "\n",
    "# for ticker in all_historical_tickers:\n",
    "#     date_first_added_df = current.query(\"Symbol == @ticker\")[\"Date added\"]\n",
    "#     date_first_added = date_first_added_df.iat[0] if not date_first_added_df.empty else None\n",
    "#     dates_added: pd.Series = added.query(\"Ticker == @ticker\")[\"Effective Date\"] \n",
    "#     dates_removed: pd.Series = removed.query(\"Ticker == @ticker\")[\"Effective Date\"]\n",
    "\n",
    "#     poi_added = [(date, \"a\") for date in dates_added] \n",
    "#     poi_rem = [(date, \"r\") for date in dates_removed]\n",
    "    \n",
    "#     poi = sorted((poi_added + poi_rem), key=lambda tup: tup[0])\n",
    "#     first_addition = True\n",
    "    \n",
    "#     if date_first_added is not None:\n",
    "#         tradeable_df.loc[tradeable_df[\"date\"] < date_first_added, ticker] = False\n",
    "    \n",
    "#     for date, action in poi:\n",
    "#         if action == \"a\":\n",
    "#             if first_addition:\n",
    "#                 tradeable_df.loc[tradeable_df[\"date\"] < date, ticker] = False\n",
    "#                 first_addition = False\n",
    "#             tradeable_df.loc[tradeable_df[\"date\"] >= date, ticker] = True\n",
    "#         if action == \"r\":\n",
    "#             tradeable_df.loc[tradeable_df[\"date\"] >= date, ticker] = False\n",
    "\n",
    "# tradeable_df"
   ]
  },
  {
   "cell_type": "code",
   "execution_count": 16,
   "metadata": {},
   "outputs": [],
   "source": [
    "# from backtest_lib.market.polars_impl import PolarsPastView\n",
    "# tradeable_past_view = PolarsPastView.from_data_frame(tradeable_df)"
   ]
  },
  {
   "cell_type": "code",
   "execution_count": 17,
   "metadata": {},
   "outputs": [],
   "source": [
    "from backtest_lib.examples.get_sp500_historical import get_sp500_market_view\n",
    "import datetime as dt\n",
    "market = get_sp500_market_view(dt.date.fromisoformat(\"2020-01-01\"))"
   ]
  },
  {
   "cell_type": "code",
   "execution_count": null,
   "metadata": {},
   "outputs": [],
   "source": [
    "market.prices.close.between(\"2023-01-01\", \"2023-01-03\")"
   ]
  },
  {
   "cell_type": "code",
   "execution_count": null,
   "metadata": {},
   "outputs": [],
   "source": []
  }
 ],
 "metadata": {
  "kernelspec": {
   "display_name": ".venv",
   "language": "python",
   "name": "python3"
  },
  "language_info": {
   "codemirror_mode": {
    "name": "ipython",
    "version": 3
   },
   "file_extension": ".py",
   "mimetype": "text/x-python",
   "name": "python",
   "nbconvert_exporter": "python",
   "pygments_lexer": "ipython3",
   "version": "3.13.6"
  }
 },
 "nbformat": 4,
 "nbformat_minor": 2
}
